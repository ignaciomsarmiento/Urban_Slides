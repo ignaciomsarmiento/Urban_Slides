{
 "cells": [
  {
   "cell_type": "markdown",
   "id": "683bf8a9",
   "metadata": {},
   "source": [
    "<a target=\"_blank\" href=\"https://colab.research.google.com/github/ignaciomsarmiento/Urban_Slides/blob/main/Lecture14/Notebook_Example_Hedonic_Prices.ipynb\">\n",
    "  <img src=\"https://colab.research.google.com/assets/colab-badge.svg\" alt=\"Open In Colab\"/>\n",
    "</a>\n"
   ]
  },
  {
   "cell_type": "markdown",
   "id": "303a3dcd",
   "metadata": {},
   "source": [
    "##  House Prices Indices\n",
    "\n",
    "One of the most common approaches for constructing house price indices are hedonic price functions:\n",
    "\n",
    "\\begin{align}\n",
    "log(P)_{it} = \\alpha + \\sum_{t=1}^T \\delta_t D_{it} + \\sum_{j=1}^h \\beta_j H_{ij} + \\sum_{k=1}^n \\beta_k N_{ik}  + u_{it}\n",
    "\\end{align}\n",
    "\n",
    "\n",
    "- $log(P)_{it}$ represents the natural logarithm of the sale price of house $i$ at time $t$ $(t = 1,\\dots, T)$, \n",
    "- $D_{it}$ is a variable indicating the house $i$ sold at time $t$,\n",
    "- $H$ represents structural and property characteristics of the house (e.g. square footage of the living area, lot size, etc) \n",
    "-  $N$ represents location characteristics, (e.g. quality of schools,distance to CBD, parks, etc ) \n"
   ]
  },
  {
   "cell_type": "markdown",
   "id": "b9183a2e",
   "metadata": {},
   "source": [
    "### The Ames Housing Data"
   ]
  },
  {
   "cell_type": "markdown",
   "id": "312ba2f4",
   "metadata": {},
   "source": [
    "For this exersise we are going to use housing data from Ames, Iowa, available on the `modeldata` package."
   ]
  },
  {
   "cell_type": "markdown",
   "id": "2fdab5a6",
   "metadata": {},
   "source": [
    "Let's load the packages:"
   ]
  },
  {
   "cell_type": "code",
   "execution_count": 1,
   "id": "dce4bb18",
   "metadata": {},
   "outputs": [],
   "source": [
    "# install.packages(\"pacman\") #run this line if you use Google Colab"
   ]
  },
  {
   "cell_type": "code",
   "execution_count": 2,
   "id": "3e94ec2b-ab94-4ec8-8512-e370d2f22a56",
   "metadata": {
    "tags": [
     "remove_cell"
    ]
   },
   "outputs": [
    {
     "name": "stderr",
     "output_type": "stream",
     "text": [
      "Loading required package: pacman\n",
      "\n"
     ]
    }
   ],
   "source": [
    "#packages\n",
    "require(\"pacman\")\n",
    "p_load(\"tidyverse\", #data wrangling\n",
    "       \"modeldata\", # package with the housing data from Ames, Iowa\n",
    "       \"stargazer\", # gazing at the stars \n",
    "       \"broom\", #tidy data set\n",
    "       \"fixest\" #fix effect estimation\n",
    "        ) \n"
   ]
  },
  {
   "cell_type": "markdown",
   "id": "5d6b3e2f",
   "metadata": {},
   "source": [
    " And the data set:"
   ]
  },
  {
   "cell_type": "code",
   "execution_count": 3,
   "id": "41492fd2",
   "metadata": {},
   "outputs": [],
   "source": [
    "data(\"ames\", package = \"modeldata\")"
   ]
  },
  {
   "cell_type": "markdown",
   "id": "49d73d77",
   "metadata": {},
   "source": [
    "The Ames housing data is a normal [tibble](https://tibble.tidyverse.org/)."
   ]
  },
  {
   "cell_type": "code",
   "execution_count": 4,
   "id": "efd33e96",
   "metadata": {},
   "outputs": [
    {
     "data": {
      "text/html": [
       "<table class=\"dataframe\">\n",
       "<caption>A tibble: 6 × 74</caption>\n",
       "<thead>\n",
       "\t<tr><th scope=col>MS_SubClass</th><th scope=col>MS_Zoning</th><th scope=col>Lot_Frontage</th><th scope=col>Lot_Area</th><th scope=col>Street</th><th scope=col>Alley</th><th scope=col>Lot_Shape</th><th scope=col>Land_Contour</th><th scope=col>Utilities</th><th scope=col>Lot_Config</th><th scope=col>⋯</th><th scope=col>Fence</th><th scope=col>Misc_Feature</th><th scope=col>Misc_Val</th><th scope=col>Mo_Sold</th><th scope=col>Year_Sold</th><th scope=col>Sale_Type</th><th scope=col>Sale_Condition</th><th scope=col>Sale_Price</th><th scope=col>Longitude</th><th scope=col>Latitude</th></tr>\n",
       "\t<tr><th scope=col>&lt;fct&gt;</th><th scope=col>&lt;fct&gt;</th><th scope=col>&lt;dbl&gt;</th><th scope=col>&lt;int&gt;</th><th scope=col>&lt;fct&gt;</th><th scope=col>&lt;fct&gt;</th><th scope=col>&lt;fct&gt;</th><th scope=col>&lt;fct&gt;</th><th scope=col>&lt;fct&gt;</th><th scope=col>&lt;fct&gt;</th><th scope=col>⋯</th><th scope=col>&lt;fct&gt;</th><th scope=col>&lt;fct&gt;</th><th scope=col>&lt;int&gt;</th><th scope=col>&lt;int&gt;</th><th scope=col>&lt;int&gt;</th><th scope=col>&lt;fct&gt;</th><th scope=col>&lt;fct&gt;</th><th scope=col>&lt;int&gt;</th><th scope=col>&lt;dbl&gt;</th><th scope=col>&lt;dbl&gt;</th></tr>\n",
       "</thead>\n",
       "<tbody>\n",
       "\t<tr><td>One_Story_1946_and_Newer_All_Styles</td><td>Residential_Low_Density </td><td>141</td><td>31770</td><td>Pave</td><td>No_Alley_Access</td><td>Slightly_Irregular</td><td>Lvl</td><td>AllPub</td><td>Corner</td><td>⋯</td><td>No_Fence       </td><td>None</td><td>    0</td><td>5</td><td>2010</td><td>WD </td><td>Normal</td><td>215000</td><td>-93.61975</td><td>42.05403</td></tr>\n",
       "\t<tr><td>One_Story_1946_and_Newer_All_Styles</td><td>Residential_High_Density</td><td> 80</td><td>11622</td><td>Pave</td><td>No_Alley_Access</td><td>Regular           </td><td>Lvl</td><td>AllPub</td><td>Inside</td><td>⋯</td><td>Minimum_Privacy</td><td>None</td><td>    0</td><td>6</td><td>2010</td><td>WD </td><td>Normal</td><td>105000</td><td>-93.61976</td><td>42.05301</td></tr>\n",
       "\t<tr><td>One_Story_1946_and_Newer_All_Styles</td><td>Residential_Low_Density </td><td> 81</td><td>14267</td><td>Pave</td><td>No_Alley_Access</td><td>Slightly_Irregular</td><td>Lvl</td><td>AllPub</td><td>Corner</td><td>⋯</td><td>No_Fence       </td><td>Gar2</td><td>12500</td><td>6</td><td>2010</td><td>WD </td><td>Normal</td><td>172000</td><td>-93.61939</td><td>42.05266</td></tr>\n",
       "\t<tr><td>One_Story_1946_and_Newer_All_Styles</td><td>Residential_Low_Density </td><td> 93</td><td>11160</td><td>Pave</td><td>No_Alley_Access</td><td>Regular           </td><td>Lvl</td><td>AllPub</td><td>Corner</td><td>⋯</td><td>No_Fence       </td><td>None</td><td>    0</td><td>4</td><td>2010</td><td>WD </td><td>Normal</td><td>244000</td><td>-93.61732</td><td>42.05125</td></tr>\n",
       "\t<tr><td>Two_Story_1946_and_Newer           </td><td>Residential_Low_Density </td><td> 74</td><td>13830</td><td>Pave</td><td>No_Alley_Access</td><td>Slightly_Irregular</td><td>Lvl</td><td>AllPub</td><td>Inside</td><td>⋯</td><td>Minimum_Privacy</td><td>None</td><td>    0</td><td>3</td><td>2010</td><td>WD </td><td>Normal</td><td>189900</td><td>-93.63893</td><td>42.06090</td></tr>\n",
       "\t<tr><td>Two_Story_1946_and_Newer           </td><td>Residential_Low_Density </td><td> 78</td><td> 9978</td><td>Pave</td><td>No_Alley_Access</td><td>Slightly_Irregular</td><td>Lvl</td><td>AllPub</td><td>Inside</td><td>⋯</td><td>No_Fence       </td><td>None</td><td>    0</td><td>6</td><td>2010</td><td>WD </td><td>Normal</td><td>195500</td><td>-93.63893</td><td>42.06078</td></tr>\n",
       "</tbody>\n",
       "</table>\n"
      ],
      "text/latex": [
       "A tibble: 6 × 74\n",
       "\\begin{tabular}{lllllllllllllllllllll}\n",
       " MS\\_SubClass & MS\\_Zoning & Lot\\_Frontage & Lot\\_Area & Street & Alley & Lot\\_Shape & Land\\_Contour & Utilities & Lot\\_Config & ⋯ & Fence & Misc\\_Feature & Misc\\_Val & Mo\\_Sold & Year\\_Sold & Sale\\_Type & Sale\\_Condition & Sale\\_Price & Longitude & Latitude\\\\\n",
       " <fct> & <fct> & <dbl> & <int> & <fct> & <fct> & <fct> & <fct> & <fct> & <fct> & ⋯ & <fct> & <fct> & <int> & <int> & <int> & <fct> & <fct> & <int> & <dbl> & <dbl>\\\\\n",
       "\\hline\n",
       "\t One\\_Story\\_1946\\_and\\_Newer\\_All\\_Styles & Residential\\_Low\\_Density  & 141 & 31770 & Pave & No\\_Alley\\_Access & Slightly\\_Irregular & Lvl & AllPub & Corner & ⋯ & No\\_Fence        & None &     0 & 5 & 2010 & WD  & Normal & 215000 & -93.61975 & 42.05403\\\\\n",
       "\t One\\_Story\\_1946\\_and\\_Newer\\_All\\_Styles & Residential\\_High\\_Density &  80 & 11622 & Pave & No\\_Alley\\_Access & Regular            & Lvl & AllPub & Inside & ⋯ & Minimum\\_Privacy & None &     0 & 6 & 2010 & WD  & Normal & 105000 & -93.61976 & 42.05301\\\\\n",
       "\t One\\_Story\\_1946\\_and\\_Newer\\_All\\_Styles & Residential\\_Low\\_Density  &  81 & 14267 & Pave & No\\_Alley\\_Access & Slightly\\_Irregular & Lvl & AllPub & Corner & ⋯ & No\\_Fence        & Gar2 & 12500 & 6 & 2010 & WD  & Normal & 172000 & -93.61939 & 42.05266\\\\\n",
       "\t One\\_Story\\_1946\\_and\\_Newer\\_All\\_Styles & Residential\\_Low\\_Density  &  93 & 11160 & Pave & No\\_Alley\\_Access & Regular            & Lvl & AllPub & Corner & ⋯ & No\\_Fence        & None &     0 & 4 & 2010 & WD  & Normal & 244000 & -93.61732 & 42.05125\\\\\n",
       "\t Two\\_Story\\_1946\\_and\\_Newer            & Residential\\_Low\\_Density  &  74 & 13830 & Pave & No\\_Alley\\_Access & Slightly\\_Irregular & Lvl & AllPub & Inside & ⋯ & Minimum\\_Privacy & None &     0 & 3 & 2010 & WD  & Normal & 189900 & -93.63893 & 42.06090\\\\\n",
       "\t Two\\_Story\\_1946\\_and\\_Newer            & Residential\\_Low\\_Density  &  78 &  9978 & Pave & No\\_Alley\\_Access & Slightly\\_Irregular & Lvl & AllPub & Inside & ⋯ & No\\_Fence        & None &     0 & 6 & 2010 & WD  & Normal & 195500 & -93.63893 & 42.06078\\\\\n",
       "\\end{tabular}\n"
      ],
      "text/markdown": [
       "\n",
       "A tibble: 6 × 74\n",
       "\n",
       "| MS_SubClass &lt;fct&gt; | MS_Zoning &lt;fct&gt; | Lot_Frontage &lt;dbl&gt; | Lot_Area &lt;int&gt; | Street &lt;fct&gt; | Alley &lt;fct&gt; | Lot_Shape &lt;fct&gt; | Land_Contour &lt;fct&gt; | Utilities &lt;fct&gt; | Lot_Config &lt;fct&gt; | ⋯ ⋯ | Fence &lt;fct&gt; | Misc_Feature &lt;fct&gt; | Misc_Val &lt;int&gt; | Mo_Sold &lt;int&gt; | Year_Sold &lt;int&gt; | Sale_Type &lt;fct&gt; | Sale_Condition &lt;fct&gt; | Sale_Price &lt;int&gt; | Longitude &lt;dbl&gt; | Latitude &lt;dbl&gt; |\n",
       "|---|---|---|---|---|---|---|---|---|---|---|---|---|---|---|---|---|---|---|---|---|\n",
       "| One_Story_1946_and_Newer_All_Styles | Residential_Low_Density  | 141 | 31770 | Pave | No_Alley_Access | Slightly_Irregular | Lvl | AllPub | Corner | ⋯ | No_Fence        | None |     0 | 5 | 2010 | WD  | Normal | 215000 | -93.61975 | 42.05403 |\n",
       "| One_Story_1946_and_Newer_All_Styles | Residential_High_Density |  80 | 11622 | Pave | No_Alley_Access | Regular            | Lvl | AllPub | Inside | ⋯ | Minimum_Privacy | None |     0 | 6 | 2010 | WD  | Normal | 105000 | -93.61976 | 42.05301 |\n",
       "| One_Story_1946_and_Newer_All_Styles | Residential_Low_Density  |  81 | 14267 | Pave | No_Alley_Access | Slightly_Irregular | Lvl | AllPub | Corner | ⋯ | No_Fence        | Gar2 | 12500 | 6 | 2010 | WD  | Normal | 172000 | -93.61939 | 42.05266 |\n",
       "| One_Story_1946_and_Newer_All_Styles | Residential_Low_Density  |  93 | 11160 | Pave | No_Alley_Access | Regular            | Lvl | AllPub | Corner | ⋯ | No_Fence        | None |     0 | 4 | 2010 | WD  | Normal | 244000 | -93.61732 | 42.05125 |\n",
       "| Two_Story_1946_and_Newer            | Residential_Low_Density  |  74 | 13830 | Pave | No_Alley_Access | Slightly_Irregular | Lvl | AllPub | Inside | ⋯ | Minimum_Privacy | None |     0 | 3 | 2010 | WD  | Normal | 189900 | -93.63893 | 42.06090 |\n",
       "| Two_Story_1946_and_Newer            | Residential_Low_Density  |  78 |  9978 | Pave | No_Alley_Access | Slightly_Irregular | Lvl | AllPub | Inside | ⋯ | No_Fence        | None |     0 | 6 | 2010 | WD  | Normal | 195500 | -93.63893 | 42.06078 |\n",
       "\n"
      ],
      "text/plain": [
       "  MS_SubClass                         MS_Zoning                Lot_Frontage\n",
       "1 One_Story_1946_and_Newer_All_Styles Residential_Low_Density  141         \n",
       "2 One_Story_1946_and_Newer_All_Styles Residential_High_Density  80         \n",
       "3 One_Story_1946_and_Newer_All_Styles Residential_Low_Density   81         \n",
       "4 One_Story_1946_and_Newer_All_Styles Residential_Low_Density   93         \n",
       "5 Two_Story_1946_and_Newer            Residential_Low_Density   74         \n",
       "6 Two_Story_1946_and_Newer            Residential_Low_Density   78         \n",
       "  Lot_Area Street Alley           Lot_Shape          Land_Contour Utilities\n",
       "1 31770    Pave   No_Alley_Access Slightly_Irregular Lvl          AllPub   \n",
       "2 11622    Pave   No_Alley_Access Regular            Lvl          AllPub   \n",
       "3 14267    Pave   No_Alley_Access Slightly_Irregular Lvl          AllPub   \n",
       "4 11160    Pave   No_Alley_Access Regular            Lvl          AllPub   \n",
       "5 13830    Pave   No_Alley_Access Slightly_Irregular Lvl          AllPub   \n",
       "6  9978    Pave   No_Alley_Access Slightly_Irregular Lvl          AllPub   \n",
       "  Lot_Config ⋯ Fence           Misc_Feature Misc_Val Mo_Sold Year_Sold\n",
       "1 Corner     ⋯ No_Fence        None             0    5       2010     \n",
       "2 Inside     ⋯ Minimum_Privacy None             0    6       2010     \n",
       "3 Corner     ⋯ No_Fence        Gar2         12500    6       2010     \n",
       "4 Corner     ⋯ No_Fence        None             0    4       2010     \n",
       "5 Inside     ⋯ Minimum_Privacy None             0    3       2010     \n",
       "6 Inside     ⋯ No_Fence        None             0    6       2010     \n",
       "  Sale_Type Sale_Condition Sale_Price Longitude Latitude\n",
       "1 WD        Normal         215000     -93.61975 42.05403\n",
       "2 WD        Normal         105000     -93.61976 42.05301\n",
       "3 WD        Normal         172000     -93.61939 42.05266\n",
       "4 WD        Normal         244000     -93.61732 42.05125\n",
       "5 WD        Normal         189900     -93.63893 42.06090\n",
       "6 WD        Normal         195500     -93.63893 42.06078"
      ]
     },
     "metadata": {},
     "output_type": "display_data"
    }
   ],
   "source": [
    "head(ames)"
   ]
  },
  {
   "cell_type": "markdown",
   "id": "36f36e5b",
   "metadata": {},
   "source": [
    "The description of the variables can be viewed here: https://jse.amstat.org/v19n3/decock/DataDocumentation.txt"
   ]
  },
  {
   "cell_type": "markdown",
   "id": "a5e5668c",
   "metadata": {},
   "source": [
    "### Modelling Time Dummies"
   ]
  },
  {
   "cell_type": "code",
   "execution_count": 5,
   "id": "fb2822c0",
   "metadata": {},
   "outputs": [
    {
     "data": {
      "text/plain": [
       "\n",
       "2006 2007 2008 2009 2010 \n",
       " 625  694  622  648  341 "
      ]
     },
     "metadata": {},
     "output_type": "display_data"
    }
   ],
   "source": [
    "table(ames$Year_Sold)\n"
   ]
  },
  {
   "cell_type": "code",
   "execution_count": 6,
   "id": "d86d9893",
   "metadata": {},
   "outputs": [
    {
     "data": {
      "text/html": [
       "'integer'"
      ],
      "text/latex": [
       "'integer'"
      ],
      "text/markdown": [
       "'integer'"
      ],
      "text/plain": [
       "[1] \"integer\""
      ]
     },
     "metadata": {},
     "output_type": "display_data"
    }
   ],
   "source": [
    "class(ames$Year_Sold)"
   ]
  },
  {
   "cell_type": "code",
   "execution_count": 7,
   "id": "86b2540a",
   "metadata": {},
   "outputs": [],
   "source": [
    "ames<- ames  %>% mutate(year=factor(Year_Sold,levels=c(2006,2007,2008,2009,2010),\n",
    "                                    labels=c(\"d2006\",\"d2007\",\"d2008\",\"d2009\",\"d2010\")))"
   ]
  },
  {
   "cell_type": "code",
   "execution_count": 8,
   "id": "66967f88",
   "metadata": {},
   "outputs": [
    {
     "data": {
      "text/plain": [
       "\n",
       "d2006 d2007 d2008 d2009 d2010 \n",
       "  625   694   622   648   341 "
      ]
     },
     "metadata": {},
     "output_type": "display_data"
    }
   ],
   "source": [
    "table(ames$year)"
   ]
  },
  {
   "cell_type": "code",
   "execution_count": 9,
   "id": "00b361c9",
   "metadata": {},
   "outputs": [
    {
     "data": {
      "text/html": [
       "'factor'"
      ],
      "text/latex": [
       "'factor'"
      ],
      "text/markdown": [
       "'factor'"
      ],
      "text/plain": [
       "[1] \"factor\""
      ]
     },
     "metadata": {},
     "output_type": "display_data"
    }
   ],
   "source": [
    "class(ames$year)"
   ]
  },
  {
   "cell_type": "code",
   "execution_count": 10,
   "id": "fa2cbc84",
   "metadata": {},
   "outputs": [
    {
     "name": "stdout",
     "output_type": "stream",
     "text": [
      "\n",
      "===============================================\n",
      "                        Dependent variable:    \n",
      "                    ---------------------------\n",
      "                            Sale_Price         \n",
      "-----------------------------------------------\n",
      "yeard2007                    1,268.544         \n",
      "                            (2,984.665)        \n",
      "                                               \n",
      "yeard2008                   -1,933.982         \n",
      "                            (3,063.130)        \n",
      "                                               \n",
      "yeard2009                     -70.717          \n",
      "                            (3,034.576)        \n",
      "                                               \n",
      "yeard2010                   -3,071.273         \n",
      "                            (3,641.608)        \n",
      "                                               \n",
      "Gr_Liv_Area                 113.814***         \n",
      "                              (1.998)          \n",
      "                                               \n",
      "Bldg_TypeTwoFmCon         -59,017.220***       \n",
      "                            (6,961.688)        \n",
      "                                               \n",
      "Bldg_TypeDuplex           -60,643.850***       \n",
      "                            (5,304.611)        \n",
      "                                               \n",
      "Bldg_TypeTwnhs            -17,921.540***       \n",
      "                            (5,520.512)        \n",
      "                                               \n",
      "Bldg_TypeTwnhsE            27,614.690***       \n",
      "                            (3,726.677)        \n",
      "                                               \n",
      "Constant                   12,519.930***       \n",
      "                            (3,778.905)        \n",
      "                                               \n",
      "-----------------------------------------------\n",
      "Observations                   2,930           \n",
      "R2                             0.543           \n",
      "Adjusted R2                    0.542           \n",
      "Residual Std. Error   54,063.220 (df = 2920)   \n",
      "F Statistic          386.150*** (df = 9; 2920) \n",
      "===============================================\n",
      "Note:               *p<0.1; **p<0.05; ***p<0.01\n"
     ]
    }
   ],
   "source": [
    "reg1<-lm(Sale_Price ~year+ Gr_Liv_Area  + Bldg_Type ,data=ames)\n",
    "stargazer(reg1,type=\"text\")"
   ]
  },
  {
   "cell_type": "code",
   "execution_count": 11,
   "id": "09638450",
   "metadata": {},
   "outputs": [],
   "source": [
    "ames<- ames  %>% mutate(log_Sale_Price=log(Sale_Price))"
   ]
  },
  {
   "cell_type": "code",
   "execution_count": 12,
   "id": "dcf81209",
   "metadata": {},
   "outputs": [],
   "source": [
    "ames<- ames  %>% mutate(d2006=ifelse(Year_Sold==2006,1,0),\n",
    "                        d2007=ifelse(Year_Sold==2007,1,0),\n",
    "                        d2008=ifelse(Year_Sold==2008,1,0),\n",
    "                        d2009=ifelse(Year_Sold==2009,1,0),\n",
    "                        d2010=ifelse(Year_Sold==2010,1,0)\n",
    "                       )"
   ]
  },
  {
   "cell_type": "markdown",
   "id": "f81b681d",
   "metadata": {},
   "source": [
    "## Regressions "
   ]
  },
  {
   "cell_type": "code",
   "execution_count": 13,
   "id": "5b468a19",
   "metadata": {},
   "outputs": [
    {
     "name": "stdout",
     "output_type": "stream",
     "text": [
      "\n",
      "============================================================\n",
      "                                    Dependent variable:     \n",
      "                                ----------------------------\n",
      "                                       log_Sale_Price       \n",
      "                                     (1)            (2)     \n",
      "------------------------------------------------------------\n",
      "yeard2007                           0.015                   \n",
      "                                   (0.015)                  \n",
      "                                                            \n",
      "yeard2008                           -0.006                  \n",
      "                                   (0.016)                  \n",
      "                                                            \n",
      "yeard2009                           0.0001                  \n",
      "                                   (0.016)                  \n",
      "                                                            \n",
      "yeard2010                           -0.017                  \n",
      "                                   (0.019)                  \n",
      "                                                            \n",
      "d2007                                              0.015    \n",
      "                                                  (0.015)   \n",
      "                                                            \n",
      "d2008                                             -0.006    \n",
      "                                                  (0.016)   \n",
      "                                                            \n",
      "d2009                                             0.0001    \n",
      "                                                  (0.016)   \n",
      "                                                            \n",
      "d2010                                             -0.017    \n",
      "                                                  (0.019)   \n",
      "                                                            \n",
      "Gr_Liv_Area                        0.001***      0.001***   \n",
      "                                  (0.00001)      (0.00001)  \n",
      "                                                            \n",
      "Bldg_TypeTwoFmCon                 -0.328***      -0.328***  \n",
      "                                   (0.036)        (0.036)   \n",
      "                                                            \n",
      "Bldg_TypeDuplex                   -0.308***      -0.308***  \n",
      "                                   (0.027)        (0.027)   \n",
      "                                                            \n",
      "Bldg_TypeTwnhs                    -0.110***      -0.110***  \n",
      "                                   (0.028)        (0.028)   \n",
      "                                                            \n",
      "Bldg_TypeTwnhsE                    0.171***      0.171***   \n",
      "                                   (0.019)        (0.019)   \n",
      "                                                            \n",
      "Constant                          11.171***      11.171***  \n",
      "                                   (0.019)        (0.019)   \n",
      "                                                            \n",
      "------------------------------------------------------------\n",
      "Observations                        2,930          2,930    \n",
      "R2                                  0.536          0.536    \n",
      "Adjusted R2                         0.534          0.534    \n",
      "Residual Std. Error (df = 2920)     0.278          0.278    \n",
      "F Statistic (df = 9; 2920)        374.508***    374.508***  \n",
      "============================================================\n",
      "Note:                            *p<0.1; **p<0.05; ***p<0.01\n"
     ]
    }
   ],
   "source": [
    "reg2<-lm(log_Sale_Price ~year+ Gr_Liv_Area  + Bldg_Type ,data=ames)\n",
    "\n",
    "reg3<-lm(log_Sale_Price ~d2007+d2008+d2009+d2010+ Gr_Liv_Area  + Bldg_Type ,data=ames)\n",
    "\n",
    "stargazer(reg2,reg3,type=\"text\")"
   ]
  },
  {
   "cell_type": "markdown",
   "id": "becc282a",
   "metadata": {},
   "source": [
    "We can use tidy to get the results in a data frame for easy plotting"
   ]
  },
  {
   "cell_type": "code",
   "execution_count": 14,
   "id": "b6685770",
   "metadata": {},
   "outputs": [
    {
     "data": {
      "text/html": [
       "<table class=\"dataframe\">\n",
       "<caption>A tibble: 4 × 7</caption>\n",
       "<thead>\n",
       "\t<tr><th scope=col>term</th><th scope=col>estimate</th><th scope=col>std.error</th><th scope=col>statistic</th><th scope=col>p.value</th><th scope=col>conf.low</th><th scope=col>conf.high</th></tr>\n",
       "\t<tr><th scope=col>&lt;chr&gt;</th><th scope=col>&lt;dbl&gt;</th><th scope=col>&lt;dbl&gt;</th><th scope=col>&lt;dbl&gt;</th><th scope=col>&lt;dbl&gt;</th><th scope=col>&lt;dbl&gt;</th><th scope=col>&lt;dbl&gt;</th></tr>\n",
       "</thead>\n",
       "<tbody>\n",
       "\t<tr><td>d2007</td><td> 1.456097e-02</td><td>0.01535425</td><td> 0.948334561</td><td>0.3430376</td><td>-0.01554529</td><td>0.04466723</td></tr>\n",
       "\t<tr><td>d2008</td><td>-5.803509e-03</td><td>0.01575791</td><td>-0.368291867</td><td>0.7126823</td><td>-0.03670125</td><td>0.02509423</td></tr>\n",
       "\t<tr><td>d2009</td><td> 6.498964e-05</td><td>0.01561102</td><td> 0.004163063</td><td>0.9966787</td><td>-0.03054473</td><td>0.03067470</td></tr>\n",
       "\t<tr><td>d2010</td><td>-1.725595e-02</td><td>0.01873382</td><td>-0.921112323</td><td>0.3570679</td><td>-0.05398878</td><td>0.01947688</td></tr>\n",
       "</tbody>\n",
       "</table>\n"
      ],
      "text/latex": [
       "A tibble: 4 × 7\n",
       "\\begin{tabular}{lllllll}\n",
       " term & estimate & std.error & statistic & p.value & conf.low & conf.high\\\\\n",
       " <chr> & <dbl> & <dbl> & <dbl> & <dbl> & <dbl> & <dbl>\\\\\n",
       "\\hline\n",
       "\t d2007 &  1.456097e-02 & 0.01535425 &  0.948334561 & 0.3430376 & -0.01554529 & 0.04466723\\\\\n",
       "\t d2008 & -5.803509e-03 & 0.01575791 & -0.368291867 & 0.7126823 & -0.03670125 & 0.02509423\\\\\n",
       "\t d2009 &  6.498964e-05 & 0.01561102 &  0.004163063 & 0.9966787 & -0.03054473 & 0.03067470\\\\\n",
       "\t d2010 & -1.725595e-02 & 0.01873382 & -0.921112323 & 0.3570679 & -0.05398878 & 0.01947688\\\\\n",
       "\\end{tabular}\n"
      ],
      "text/markdown": [
       "\n",
       "A tibble: 4 × 7\n",
       "\n",
       "| term &lt;chr&gt; | estimate &lt;dbl&gt; | std.error &lt;dbl&gt; | statistic &lt;dbl&gt; | p.value &lt;dbl&gt; | conf.low &lt;dbl&gt; | conf.high &lt;dbl&gt; |\n",
       "|---|---|---|---|---|---|---|\n",
       "| d2007 |  1.456097e-02 | 0.01535425 |  0.948334561 | 0.3430376 | -0.01554529 | 0.04466723 |\n",
       "| d2008 | -5.803509e-03 | 0.01575791 | -0.368291867 | 0.7126823 | -0.03670125 | 0.02509423 |\n",
       "| d2009 |  6.498964e-05 | 0.01561102 |  0.004163063 | 0.9966787 | -0.03054473 | 0.03067470 |\n",
       "| d2010 | -1.725595e-02 | 0.01873382 | -0.921112323 | 0.3570679 | -0.05398878 | 0.01947688 |\n",
       "\n"
      ],
      "text/plain": [
       "  term  estimate      std.error  statistic    p.value   conf.low    conf.high \n",
       "1 d2007  1.456097e-02 0.01535425  0.948334561 0.3430376 -0.01554529 0.04466723\n",
       "2 d2008 -5.803509e-03 0.01575791 -0.368291867 0.7126823 -0.03670125 0.02509423\n",
       "3 d2009  6.498964e-05 0.01561102  0.004163063 0.9966787 -0.03054473 0.03067470\n",
       "4 d2010 -1.725595e-02 0.01873382 -0.921112323 0.3570679 -0.05398878 0.01947688"
      ]
     },
     "metadata": {},
     "output_type": "display_data"
    }
   ],
   "source": [
    "resreg3<-broom::tidy(reg3, conf.int = TRUE)\n",
    "\n",
    "# Filter for those terms that start with a \"d\" and are followed by a digit\n",
    "resreg3 <- resreg3  %>% filter(grepl(\"d\\\\d\",term))\n",
    "resreg3"
   ]
  },
  {
   "cell_type": "markdown",
   "id": "ea0074b8",
   "metadata": {},
   "source": [
    "#### Fixest\n",
    "\n",
    "We can use the fixest package which is designed for estimating models with fixed-effects, particularly in an econometric context. It is highly efficient and is known for its speed in estimating large datasets. "
   ]
  },
  {
   "cell_type": "code",
   "execution_count": 15,
   "id": "e54d9830",
   "metadata": {},
   "outputs": [],
   "source": [
    "# Add a FE by Neighborhood and cluster the estandard errors by neighborhood\n",
    "reg4<-feols(log_Sale_Price ~d2007+d2008+d2009+d2010+ Gr_Liv_Area  \n",
    "            | Bldg_Type + factor(Neighborhood),vcov = ~Neighborhood,\n",
    "            data=ames)"
   ]
  },
  {
   "cell_type": "code",
   "execution_count": 16,
   "id": "83100300",
   "metadata": {},
   "outputs": [
    {
     "data": {
      "text/html": [
       "<table class=\"dataframe\">\n",
       "<caption>A etable_df: 15 × 2</caption>\n",
       "<thead>\n",
       "\t<tr><th></th><th scope=col></th><th scope=col>reg4</th></tr>\n",
       "\t<tr><th></th><th scope=col>&lt;chr&gt;</th><th scope=col>&lt;chr&gt;</th></tr>\n",
       "</thead>\n",
       "<tbody>\n",
       "\t<tr><th scope=row>1</th><td>Dependent Var.:     </td><td>log_Sale_Price     </td></tr>\n",
       "\t<tr><th scope=row>2</th><td>                    </td><td>                   </td></tr>\n",
       "\t<tr><th scope=row>3</th><td>d2007               </td><td>-0.0043 (0.0085)   </td></tr>\n",
       "\t<tr><th scope=row>4</th><td>d2008               </td><td>0.0023 (0.0073)    </td></tr>\n",
       "\t<tr><th scope=row>5</th><td>d2009               </td><td>-0.0167 (0.0128)   </td></tr>\n",
       "\t<tr><th scope=row>6</th><td>d2010               </td><td>-0.0110 (0.0104)   </td></tr>\n",
       "\t<tr><th scope=row>7</th><td>Gr_Liv_Area         </td><td>0.0004*** (2.83e-5)</td></tr>\n",
       "\t<tr><th scope=row>8</th><td>Fixed-Effects:      </td><td>-------------------</td></tr>\n",
       "\t<tr><th scope=row>9</th><td>Bldg_Type           </td><td>Yes                </td></tr>\n",
       "\t<tr><th scope=row>10</th><td>factor(Neighborhood)</td><td>Yes                </td></tr>\n",
       "\t<tr><th scope=row>11</th><td>____________________</td><td>___________________</td></tr>\n",
       "\t<tr><th scope=row>12</th><td>S.E.: Clustered     </td><td>by: Neighborhood   </td></tr>\n",
       "\t<tr><th scope=row>13</th><td>Observations        </td><td>2,930              </td></tr>\n",
       "\t<tr><th scope=row>14</th><td>R2                  </td><td>0.76567            </td></tr>\n",
       "\t<tr><th scope=row>15</th><td>Within R2           </td><td>0.41343            </td></tr>\n",
       "</tbody>\n",
       "</table>\n"
      ],
      "text/latex": [
       "A etable\\_df: 15 × 2\n",
       "\\begin{tabular}{r|ll}\n",
       "  &  & reg4\\\\\n",
       "  & <chr> & <chr>\\\\\n",
       "\\hline\n",
       "\t1 & Dependent Var.:      & log\\_Sale\\_Price     \\\\\n",
       "\t2 &                      &                    \\\\\n",
       "\t3 & d2007                & -0.0043 (0.0085)   \\\\\n",
       "\t4 & d2008                & 0.0023 (0.0073)    \\\\\n",
       "\t5 & d2009                & -0.0167 (0.0128)   \\\\\n",
       "\t6 & d2010                & -0.0110 (0.0104)   \\\\\n",
       "\t7 & Gr\\_Liv\\_Area          & 0.0004*** (2.83e-5)\\\\\n",
       "\t8 & Fixed-Effects:       & -------------------\\\\\n",
       "\t9 & Bldg\\_Type            & Yes                \\\\\n",
       "\t10 & factor(Neighborhood) & Yes                \\\\\n",
       "\t11 & \\_\\_\\_\\_\\_\\_\\_\\_\\_\\_\\_\\_\\_\\_\\_\\_\\_\\_\\_\\_ & \\_\\_\\_\\_\\_\\_\\_\\_\\_\\_\\_\\_\\_\\_\\_\\_\\_\\_\\_\\\\\n",
       "\t12 & S.E.: Clustered      & by: Neighborhood   \\\\\n",
       "\t13 & Observations         & 2,930              \\\\\n",
       "\t14 & R2                   & 0.76567            \\\\\n",
       "\t15 & Within R2            & 0.41343            \\\\\n",
       "\\end{tabular}\n"
      ],
      "text/markdown": [
       "\n",
       "A etable_df: 15 × 2\n",
       "\n",
       "| <!--/--> | <!----> &lt;chr&gt; | reg4 &lt;chr&gt; |\n",
       "|---|---|---|\n",
       "| 1 | Dependent Var.:      | log_Sale_Price      |\n",
       "| 2 | <!----> | <!----> |\n",
       "| 3 | d2007                | -0.0043 (0.0085)    |\n",
       "| 4 | d2008                | 0.0023 (0.0073)     |\n",
       "| 5 | d2009                | -0.0167 (0.0128)    |\n",
       "| 6 | d2010                | -0.0110 (0.0104)    |\n",
       "| 7 | Gr_Liv_Area          | 0.0004*** (2.83e-5) |\n",
       "| 8 | Fixed-Effects:       | ------------------- |\n",
       "| 9 | Bldg_Type            | Yes                 |\n",
       "| 10 | factor(Neighborhood) | Yes                 |\n",
       "| 11 | ____________________ | ___________________ |\n",
       "| 12 | S.E.: Clustered      | by: Neighborhood    |\n",
       "| 13 | Observations         | 2,930               |\n",
       "| 14 | R2                   | 0.76567             |\n",
       "| 15 | Within R2            | 0.41343             |\n",
       "\n"
      ],
      "text/plain": [
       "                        reg4               \n",
       "1  Dependent Var.:      log_Sale_Price     \n",
       "2                                          \n",
       "3  d2007                -0.0043 (0.0085)   \n",
       "4  d2008                0.0023 (0.0073)    \n",
       "5  d2009                -0.0167 (0.0128)   \n",
       "6  d2010                -0.0110 (0.0104)   \n",
       "7  Gr_Liv_Area          0.0004*** (2.83e-5)\n",
       "8  Fixed-Effects:       -------------------\n",
       "9  Bldg_Type            Yes                \n",
       "10 factor(Neighborhood) Yes                \n",
       "11 ____________________ ___________________\n",
       "12 S.E.: Clustered      by: Neighborhood   \n",
       "13 Observations         2,930              \n",
       "14 R2                   0.76567            \n",
       "15 Within R2            0.41343            "
      ]
     },
     "metadata": {},
     "output_type": "display_data"
    }
   ],
   "source": [
    "#results are shown with the etable function\n",
    "etable(reg4)"
   ]
  }
 ],
 "metadata": {
  "jupytext": {
   "formats": "ipynb,Rmd"
  },
  "kernelspec": {
   "display_name": "R",
   "language": "R",
   "name": "ir"
  },
  "language_info": {
   "codemirror_mode": "r",
   "file_extension": ".r",
   "mimetype": "text/x-r-source",
   "name": "R",
   "pygments_lexer": "r",
   "version": "4.3.0"
  },
  "toc": {
   "base_numbering": 1,
   "nav_menu": {},
   "number_sections": true,
   "sideBar": true,
   "skip_h1_title": false,
   "title_cell": "Table of Contents",
   "title_sidebar": "Contents",
   "toc_cell": false,
   "toc_position": {},
   "toc_section_display": true,
   "toc_window_display": false
  }
 },
 "nbformat": 4,
 "nbformat_minor": 5
}
