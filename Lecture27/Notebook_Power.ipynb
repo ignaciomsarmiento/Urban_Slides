{
 "cells": [
  {
   "cell_type": "markdown",
   "id": "de4ecc9a",
   "metadata": {},
   "source": [
    "# Analytical calculations of power\n",
    "\n",
    "- Formula:\n",
    "  \\begin{align*}\n",
    "  \\text{Power} &= \\Phi\\left(\\frac{|\\tau| \\sqrt{N}}{2\\sigma}- \\Phi^{-1}(1- \\frac{\\alpha}{2})\\right)\n",
    "  \\end{align*}\n",
    "\n",
    "- Components:\n",
    "  - $\\Phi$: standard normal CDF is monotonically increasing\n",
    "  - $\\tau$: the effect size\n",
    "  - $N$: the sample size\n",
    "  - $\\sigma$: the standard deviation of the outcome\n",
    "  - $\\alpha$: the significance level (typically 0.05)"
   ]
  },
  {
   "cell_type": "code",
   "execution_count": 1,
   "id": "e36e2b8c",
   "metadata": {},
   "outputs": [
    {
     "name": "stderr",
     "output_type": "stream",
     "text": [
      "Loading required package: pwr\n",
      "\n"
     ]
    }
   ],
   "source": [
    "require(\"pwr\")"
   ]
  },
  {
   "cell_type": "code",
   "execution_count": 5,
   "id": "9bc36fe5",
   "metadata": {},
   "outputs": [
    {
     "data": {
      "text/plain": [
       "\n",
       "     Two-sample t test power calculation \n",
       "\n",
       "              n = 2000\n",
       "              d = 0.1\n",
       "      sig.level = 0.05\n",
       "          power = 0.885232\n",
       "    alternative = two.sided\n",
       "\n",
       "NOTE: n is number in *each* group\n"
      ]
     },
     "metadata": {},
     "output_type": "display_data"
    }
   ],
   "source": [
    "pwr.t.test(n = 2000, d = 0.1, sig.level = 0.05, power = NULL )"
   ]
  },
  {
   "cell_type": "markdown",
   "id": "bf7182a6",
   "metadata": {},
   "source": [
    "### Effect Size: Minimum detectable effect\n",
    "\n",
    "  \\begin{align*}\n",
    "  \\tau &= \\left( t_{1-\\kappa} + t_{\\alpha} \\right) * \\sqrt{\\frac{1}{p(1-p)}}* \\sqrt{\\frac{\\sigma^2}{N}}\n",
    "  \\end{align*}\n",
    "  \n",
    "  - $1-\\kappa$ statistical power\n",
    "  \n"
   ]
  },
  {
   "cell_type": "markdown",
   "id": "37304e08",
   "metadata": {},
   "source": [
    "## Sample size for a given minimum detectable effect size "
   ]
  },
  {
   "cell_type": "code",
   "execution_count": 6,
   "id": "6ebd41b2",
   "metadata": {},
   "outputs": [
    {
     "name": "stderr",
     "output_type": "stream",
     "text": [
      "Loading required package: pwrcalc\n",
      "\n",
      "Loading required package: magrittr\n",
      "\n"
     ]
    }
   ],
   "source": [
    "# https://github.com/vikjam/pwrcalc\n",
    "#devtools::install_github('vikjam/pwrcalc')\n",
    "require(\"pwrcalc\")"
   ]
  },
  {
   "cell_type": "code",
   "execution_count": 14,
   "id": "3e7509ad",
   "metadata": {},
   "outputs": [
    {
     "data": {
      "text/plain": [
       "\n",
       "     Two-sample t-test power calculation \n",
       "\n",
       "             m1 = 0\n",
       "             m2 = 0.1\n",
       "             n1 = 1178\n",
       "             n2 = 2355\n",
       "      sig.level = 0.05\n",
       "          power = 0.8\n",
       "    alternative = two.sided\n",
       "\n",
       "NOTE: \r\n",
       "m1 and m2 are the means of group 1 and 2, respectively.\r\n",
       "n1 and n2 are the obs. of group 1 and 2, respectively.\n"
      ]
     },
     "metadata": {},
     "output_type": "display_data"
    }
   ],
   "source": [
    "power = 0.8                                                                     #SPECIFY - desired power\n",
    "nratio = 2                                                                     #SPECIFY - the ratio of the size of the treatment group to control group\n",
    "alpha =0.05                                                                     #SPECIFY - significance level\n",
    "p = nratio/(1+nratio)\n",
    "  \n",
    "baseline_mean <-  0                              #Record the mean of the outcome variable at baseline   \n",
    "baseline_sd <- 1                                      #Record the standard deviation of the outcome variable at baseline   \n",
    "  \n",
    "expected_effect = 0.1*baseline_sd                                             #The expected effect should be specified based on the intervention and the cost. \n",
    "                                                                                #Here it is 0.3 times the sd\n",
    "treated_mean <- expected_effect + baseline_mean\n",
    "  \n",
    "base_model = twomeans(m1 = baseline_mean, m2 = treated_mean, sd = baseline_sd, \n",
    "                        nratio=nratio, power=power, sig.level = alpha)\n",
    "\n",
    "base_model"
   ]
  },
  {
   "cell_type": "code",
   "execution_count": 15,
   "id": "f52f644b",
   "metadata": {},
   "outputs": [
    {
     "name": "stdout",
     "output_type": "stream",
     "text": [
      "We need a minimum treatment size of 2355 and control size of 1178 to detect an effect of 0.1 with a probability of 0.8 if the effect is true and the ratio of the treatment and control is 2"
     ]
    }
   ],
   "source": [
    "cat(\"We need a minimum treatment size of\",base_model$n2,\"and control size of\", \n",
    "      base_model$n1, \"to detect an effect of\", \n",
    "      expected_effect, \"with a probability of\", \n",
    "      power,  \"if the effect is true and the ratio of the treatment and control is\",nratio)"
   ]
  },
  {
   "cell_type": "markdown",
   "id": "6aedf140",
   "metadata": {},
   "source": [
    "\n",
    "## Limitations to analytical power calculations\n",
    "\n",
    "- Only derived for some test statistics (differences of means)\n",
    "\n",
    "- Makes specific assumptions about the data-generating process\n",
    "\n",
    "- Incompatible with more complex designs\n",
    "\n",
    "\n"
   ]
  },
  {
   "cell_type": "markdown",
   "id": "6af4d944",
   "metadata": {},
   "source": [
    "# Simulation-based power calculation\n",
    "\n",
    "- Create dataset and simulate research design.\n",
    "\n",
    "- Assumptions are necessary for simulation studies, but you make your own.\n",
    "\n",
    "- For the DeclareDesign approach, see <https://declaredesign.org/>\n",
    "\n",
    "## Steps\n",
    "\n",
    "\n",
    "  - Modelo: conjunto de modelos de qué causa qué y cómo\n",
    "  \n",
    "  - Pregunta: una pregunta formulada en términos del modelo.\n",
    "  \n",
    "  - Estrategia de datos: el conjunto de procedimientos que utilizamos para recopilar información del mundo (muestreo, asignación, medición)\n",
    "     \n",
    "  - Estrategia de respuesta: cómo resumimos los datos producidos por la estrategia de datos\n"
   ]
  },
  {
   "cell_type": "code",
   "execution_count": 16,
   "id": "bb54147e",
   "metadata": {},
   "outputs": [
    {
     "name": "stderr",
     "output_type": "stream",
     "text": [
      "Loading required package: DeclareDesign\n",
      "\n",
      "Loading required package: randomizr\n",
      "\n",
      "Loading required package: fabricatr\n",
      "\n",
      "Loading required package: estimatr\n",
      "\n"
     ]
    }
   ],
   "source": [
    "require(\"DeclareDesign\")"
   ]
  },
  {
   "cell_type": "code",
   "execution_count": 17,
   "id": "aacd4614",
   "metadata": {},
   "outputs": [
    {
     "name": "stderr",
     "output_type": "stream",
     "text": [
      "Loading required package: DesignLibrary\n",
      "\n"
     ]
    }
   ],
   "source": [
    "require(\"DesignLibrary\")"
   ]
  },
  {
   "cell_type": "code",
   "execution_count": 19,
   "id": "caf954b6",
   "metadata": {},
   "outputs": [],
   "source": [
    "#Model\n",
    "\n",
    "design_two_arm<-DesignLibrary::two_arm_designer()"
   ]
  },
  {
   "cell_type": "code",
   "execution_count": 20,
   "id": "b7974654",
   "metadata": {},
   "outputs": [
    {
     "data": {
      "text/plain": [
       "\n",
       "Research design declaration summary\n",
       "\n",
       "Step 1 (population): declare_population(N = N, u_0 = rnorm(N), u_1 = rnorm(n = N, mean = rho * u_0, sd = sqrt(1 - rho^2))) \n",
       "\n",
       "Step 2 (potential outcomes): declare_potential_outcomes(Y ~ (1 - Z) * (u_0 * control_sd + control_mean) + Z * (u_1 * treatment_sd + treatment_mean)) \n",
       "\n",
       "Step 3 (inquiry): declare_inquiry(ATE = mean(Y_Z_1 - Y_Z_0)) -------------------\n",
       "\n",
       "Step 4 (assignment): declare_assignment(Z = complete_ra(N, prob = assignment_prob)) \n",
       "\n",
       "Step 5 (reveal): declare_reveal() ----------------------------------------------\n",
       "\n",
       "Step 6 (estimator): declare_estimator(Y ~ Z, inquiry = estimand) ---------------\n",
       "\n",
       "Run of the design:\n",
       "\n",
       " inquiry estimand estimator term estimate std.error statistic  p.value conf.low\n",
       "     ATE        1 estimator    Z     1.03     0.216      4.79 6.02e-06    0.606\n",
       " conf.high df outcome\n",
       "      1.46 98       Y\n"
      ]
     },
     "metadata": {},
     "output_type": "display_data"
    }
   ],
   "source": [
    "design_two_arm"
   ]
  },
  {
   "cell_type": "code",
   "execution_count": 21,
   "id": "bfe45806",
   "metadata": {},
   "outputs": [],
   "source": [
    "data_mundo1<-draw_data(design_two_arm)"
   ]
  },
  {
   "cell_type": "code",
   "execution_count": 23,
   "id": "25054883",
   "metadata": {},
   "outputs": [
    {
     "data": {
      "text/html": [
       "<table class=\"dataframe\">\n",
       "<caption>A data.frame: 6 × 7</caption>\n",
       "<thead>\n",
       "\t<tr><th></th><th scope=col>ID</th><th scope=col>u_0</th><th scope=col>u_1</th><th scope=col>Y_Z_0</th><th scope=col>Y_Z_1</th><th scope=col>Z</th><th scope=col>Y</th></tr>\n",
       "\t<tr><th></th><th scope=col>&lt;chr&gt;</th><th scope=col>&lt;dbl&gt;</th><th scope=col>&lt;dbl&gt;</th><th scope=col>&lt;dbl&gt;</th><th scope=col>&lt;dbl&gt;</th><th scope=col>&lt;int&gt;</th><th scope=col>&lt;dbl&gt;</th></tr>\n",
       "</thead>\n",
       "<tbody>\n",
       "\t<tr><th scope=row>1</th><td>001</td><td>-0.1225205</td><td>-0.1225205</td><td>-0.1225205</td><td> 0.8774795</td><td>0</td><td>-0.1225205</td></tr>\n",
       "\t<tr><th scope=row>2</th><td>002</td><td>-0.2535749</td><td>-0.2535749</td><td>-0.2535749</td><td> 0.7464251</td><td>0</td><td>-0.2535749</td></tr>\n",
       "\t<tr><th scope=row>3</th><td>003</td><td> 1.2221940</td><td> 1.2221940</td><td> 1.2221940</td><td> 2.2221940</td><td>1</td><td> 2.2221940</td></tr>\n",
       "\t<tr><th scope=row>4</th><td>004</td><td> 1.1435621</td><td> 1.1435621</td><td> 1.1435621</td><td> 2.1435621</td><td>0</td><td> 1.1435621</td></tr>\n",
       "\t<tr><th scope=row>5</th><td>005</td><td>-1.3045343</td><td>-1.3045343</td><td>-1.3045343</td><td>-0.3045343</td><td>1</td><td>-0.3045343</td></tr>\n",
       "\t<tr><th scope=row>6</th><td>006</td><td>-1.2360175</td><td>-1.2360175</td><td>-1.2360175</td><td>-0.2360175</td><td>0</td><td>-1.2360175</td></tr>\n",
       "</tbody>\n",
       "</table>\n"
      ],
      "text/latex": [
       "A data.frame: 6 × 7\n",
       "\\begin{tabular}{r|lllllll}\n",
       "  & ID & u\\_0 & u\\_1 & Y\\_Z\\_0 & Y\\_Z\\_1 & Z & Y\\\\\n",
       "  & <chr> & <dbl> & <dbl> & <dbl> & <dbl> & <int> & <dbl>\\\\\n",
       "\\hline\n",
       "\t1 & 001 & -0.1225205 & -0.1225205 & -0.1225205 &  0.8774795 & 0 & -0.1225205\\\\\n",
       "\t2 & 002 & -0.2535749 & -0.2535749 & -0.2535749 &  0.7464251 & 0 & -0.2535749\\\\\n",
       "\t3 & 003 &  1.2221940 &  1.2221940 &  1.2221940 &  2.2221940 & 1 &  2.2221940\\\\\n",
       "\t4 & 004 &  1.1435621 &  1.1435621 &  1.1435621 &  2.1435621 & 0 &  1.1435621\\\\\n",
       "\t5 & 005 & -1.3045343 & -1.3045343 & -1.3045343 & -0.3045343 & 1 & -0.3045343\\\\\n",
       "\t6 & 006 & -1.2360175 & -1.2360175 & -1.2360175 & -0.2360175 & 0 & -1.2360175\\\\\n",
       "\\end{tabular}\n"
      ],
      "text/markdown": [
       "\n",
       "A data.frame: 6 × 7\n",
       "\n",
       "| <!--/--> | ID &lt;chr&gt; | u_0 &lt;dbl&gt; | u_1 &lt;dbl&gt; | Y_Z_0 &lt;dbl&gt; | Y_Z_1 &lt;dbl&gt; | Z &lt;int&gt; | Y &lt;dbl&gt; |\n",
       "|---|---|---|---|---|---|---|---|\n",
       "| 1 | 001 | -0.1225205 | -0.1225205 | -0.1225205 |  0.8774795 | 0 | -0.1225205 |\n",
       "| 2 | 002 | -0.2535749 | -0.2535749 | -0.2535749 |  0.7464251 | 0 | -0.2535749 |\n",
       "| 3 | 003 |  1.2221940 |  1.2221940 |  1.2221940 |  2.2221940 | 1 |  2.2221940 |\n",
       "| 4 | 004 |  1.1435621 |  1.1435621 |  1.1435621 |  2.1435621 | 0 |  1.1435621 |\n",
       "| 5 | 005 | -1.3045343 | -1.3045343 | -1.3045343 | -0.3045343 | 1 | -0.3045343 |\n",
       "| 6 | 006 | -1.2360175 | -1.2360175 | -1.2360175 | -0.2360175 | 0 | -1.2360175 |\n",
       "\n"
      ],
      "text/plain": [
       "  ID  u_0        u_1        Y_Z_0      Y_Z_1      Z Y         \n",
       "1 001 -0.1225205 -0.1225205 -0.1225205  0.8774795 0 -0.1225205\n",
       "2 002 -0.2535749 -0.2535749 -0.2535749  0.7464251 0 -0.2535749\n",
       "3 003  1.2221940  1.2221940  1.2221940  2.2221940 1  2.2221940\n",
       "4 004  1.1435621  1.1435621  1.1435621  2.1435621 0  1.1435621\n",
       "5 005 -1.3045343 -1.3045343 -1.3045343 -0.3045343 1 -0.3045343\n",
       "6 006 -1.2360175 -1.2360175 -1.2360175 -0.2360175 0 -1.2360175"
      ]
     },
     "metadata": {},
     "output_type": "display_data"
    }
   ],
   "source": [
    "head(data_mundo1)"
   ]
  },
  {
   "cell_type": "code",
   "execution_count": 24,
   "id": "f85f1510",
   "metadata": {},
   "outputs": [
    {
     "data": {
      "text/html": [
       "<table class=\"dataframe\">\n",
       "<caption>A data.frame: 6 × 7</caption>\n",
       "<thead>\n",
       "\t<tr><th></th><th scope=col>ID</th><th scope=col>u_0</th><th scope=col>u_1</th><th scope=col>Y_Z_0</th><th scope=col>Y_Z_1</th><th scope=col>Z</th><th scope=col>Y</th></tr>\n",
       "\t<tr><th></th><th scope=col>&lt;chr&gt;</th><th scope=col>&lt;dbl&gt;</th><th scope=col>&lt;dbl&gt;</th><th scope=col>&lt;dbl&gt;</th><th scope=col>&lt;dbl&gt;</th><th scope=col>&lt;int&gt;</th><th scope=col>&lt;dbl&gt;</th></tr>\n",
       "</thead>\n",
       "<tbody>\n",
       "\t<tr><th scope=row>1</th><td>001</td><td>-1.4281171</td><td>-1.4281171</td><td>-1.4281171</td><td>-0.4281171</td><td>1</td><td>-0.4281171</td></tr>\n",
       "\t<tr><th scope=row>2</th><td>002</td><td> 0.3804937</td><td> 0.3804937</td><td> 0.3804937</td><td> 1.3804937</td><td>0</td><td> 0.3804937</td></tr>\n",
       "\t<tr><th scope=row>3</th><td>003</td><td>-0.5880345</td><td>-0.5880345</td><td>-0.5880345</td><td> 0.4119655</td><td>0</td><td>-0.5880345</td></tr>\n",
       "\t<tr><th scope=row>4</th><td>004</td><td> 1.0705576</td><td> 1.0705576</td><td> 1.0705576</td><td> 2.0705576</td><td>1</td><td> 2.0705576</td></tr>\n",
       "\t<tr><th scope=row>5</th><td>005</td><td>-0.6999435</td><td>-0.6999435</td><td>-0.6999435</td><td> 0.3000565</td><td>1</td><td> 0.3000565</td></tr>\n",
       "\t<tr><th scope=row>6</th><td>006</td><td> 0.8617654</td><td> 0.8617654</td><td> 0.8617654</td><td> 1.8617654</td><td>1</td><td> 1.8617654</td></tr>\n",
       "</tbody>\n",
       "</table>\n"
      ],
      "text/latex": [
       "A data.frame: 6 × 7\n",
       "\\begin{tabular}{r|lllllll}\n",
       "  & ID & u\\_0 & u\\_1 & Y\\_Z\\_0 & Y\\_Z\\_1 & Z & Y\\\\\n",
       "  & <chr> & <dbl> & <dbl> & <dbl> & <dbl> & <int> & <dbl>\\\\\n",
       "\\hline\n",
       "\t1 & 001 & -1.4281171 & -1.4281171 & -1.4281171 & -0.4281171 & 1 & -0.4281171\\\\\n",
       "\t2 & 002 &  0.3804937 &  0.3804937 &  0.3804937 &  1.3804937 & 0 &  0.3804937\\\\\n",
       "\t3 & 003 & -0.5880345 & -0.5880345 & -0.5880345 &  0.4119655 & 0 & -0.5880345\\\\\n",
       "\t4 & 004 &  1.0705576 &  1.0705576 &  1.0705576 &  2.0705576 & 1 &  2.0705576\\\\\n",
       "\t5 & 005 & -0.6999435 & -0.6999435 & -0.6999435 &  0.3000565 & 1 &  0.3000565\\\\\n",
       "\t6 & 006 &  0.8617654 &  0.8617654 &  0.8617654 &  1.8617654 & 1 &  1.8617654\\\\\n",
       "\\end{tabular}\n"
      ],
      "text/markdown": [
       "\n",
       "A data.frame: 6 × 7\n",
       "\n",
       "| <!--/--> | ID &lt;chr&gt; | u_0 &lt;dbl&gt; | u_1 &lt;dbl&gt; | Y_Z_0 &lt;dbl&gt; | Y_Z_1 &lt;dbl&gt; | Z &lt;int&gt; | Y &lt;dbl&gt; |\n",
       "|---|---|---|---|---|---|---|---|\n",
       "| 1 | 001 | -1.4281171 | -1.4281171 | -1.4281171 | -0.4281171 | 1 | -0.4281171 |\n",
       "| 2 | 002 |  0.3804937 |  0.3804937 |  0.3804937 |  1.3804937 | 0 |  0.3804937 |\n",
       "| 3 | 003 | -0.5880345 | -0.5880345 | -0.5880345 |  0.4119655 | 0 | -0.5880345 |\n",
       "| 4 | 004 |  1.0705576 |  1.0705576 |  1.0705576 |  2.0705576 | 1 |  2.0705576 |\n",
       "| 5 | 005 | -0.6999435 | -0.6999435 | -0.6999435 |  0.3000565 | 1 |  0.3000565 |\n",
       "| 6 | 006 |  0.8617654 |  0.8617654 |  0.8617654 |  1.8617654 | 1 |  1.8617654 |\n",
       "\n"
      ],
      "text/plain": [
       "  ID  u_0        u_1        Y_Z_0      Y_Z_1      Z Y         \n",
       "1 001 -1.4281171 -1.4281171 -1.4281171 -0.4281171 1 -0.4281171\n",
       "2 002  0.3804937  0.3804937  0.3804937  1.3804937 0  0.3804937\n",
       "3 003 -0.5880345 -0.5880345 -0.5880345  0.4119655 0 -0.5880345\n",
       "4 004  1.0705576  1.0705576  1.0705576  2.0705576 1  2.0705576\n",
       "5 005 -0.6999435 -0.6999435 -0.6999435  0.3000565 1  0.3000565\n",
       "6 006  0.8617654  0.8617654  0.8617654  1.8617654 1  1.8617654"
      ]
     },
     "metadata": {},
     "output_type": "display_data"
    }
   ],
   "source": [
    "head(draw_data(design_two_arm))"
   ]
  },
  {
   "cell_type": "code",
   "execution_count": 25,
   "id": "3de979e2",
   "metadata": {},
   "outputs": [
    {
     "data": {
      "text/html": [
       "<style>\n",
       ".list-inline {list-style: none; margin:0; padding: 0}\n",
       ".list-inline>li {display: inline-block}\n",
       ".list-inline>li:not(:last-child)::after {content: \"\\00b7\"; padding: 0 .5ex}\n",
       "</style>\n",
       "<ol class=list-inline><li>100</li><li>7</li></ol>\n"
      ],
      "text/latex": [
       "\\begin{enumerate*}\n",
       "\\item 100\n",
       "\\item 7\n",
       "\\end{enumerate*}\n"
      ],
      "text/markdown": [
       "1. 100\n",
       "2. 7\n",
       "\n",
       "\n"
      ],
      "text/plain": [
       "[1] 100   7"
      ]
     },
     "metadata": {},
     "output_type": "display_data"
    }
   ],
   "source": [
    "dim(data_mundo1)"
   ]
  },
  {
   "cell_type": "code",
   "execution_count": 26,
   "id": "3011c7c0",
   "metadata": {},
   "outputs": [
    {
     "data": {
      "text/plain": [
       "\n",
       " 0  1 \n",
       "50 50 "
      ]
     },
     "metadata": {},
     "output_type": "display_data"
    }
   ],
   "source": [
    "table(data_mundo1$Z)"
   ]
  },
  {
   "cell_type": "code",
   "execution_count": 27,
   "id": "0c661903",
   "metadata": {},
   "outputs": [
    {
     "data": {
      "text/plain": [
       "\n",
       "Call:\n",
       "lm(formula = Y ~ Z, data = data_mundo1)\n",
       "\n",
       "Coefficients:\n",
       "(Intercept)            Z  \n",
       "    -0.2264       1.0345  \n"
      ]
     },
     "metadata": {},
     "output_type": "display_data"
    }
   ],
   "source": [
    "lm(Y~Z,data=data_mundo1)"
   ]
  },
  {
   "cell_type": "code",
   "execution_count": 28,
   "id": "8bf4a7ee",
   "metadata": {},
   "outputs": [
    {
     "data": {
      "text/html": [
       "<table class=\"dataframe\">\n",
       "<caption>A data.frame: 1 × 2</caption>\n",
       "<thead>\n",
       "\t<tr><th scope=col>inquiry</th><th scope=col>estimand</th></tr>\n",
       "\t<tr><th scope=col>&lt;chr&gt;</th><th scope=col>&lt;dbl&gt;</th></tr>\n",
       "</thead>\n",
       "<tbody>\n",
       "\t<tr><td>ATE</td><td>1</td></tr>\n",
       "</tbody>\n",
       "</table>\n"
      ],
      "text/latex": [
       "A data.frame: 1 × 2\n",
       "\\begin{tabular}{ll}\n",
       " inquiry & estimand\\\\\n",
       " <chr> & <dbl>\\\\\n",
       "\\hline\n",
       "\t ATE & 1\\\\\n",
       "\\end{tabular}\n"
      ],
      "text/markdown": [
       "\n",
       "A data.frame: 1 × 2\n",
       "\n",
       "| inquiry &lt;chr&gt; | estimand &lt;dbl&gt; |\n",
       "|---|---|\n",
       "| ATE | 1 |\n",
       "\n"
      ],
      "text/plain": [
       "  inquiry estimand\n",
       "1 ATE     1       "
      ]
     },
     "metadata": {},
     "output_type": "display_data"
    }
   ],
   "source": [
    "draw_estimand(design_two_arm)"
   ]
  },
  {
   "cell_type": "code",
   "execution_count": 29,
   "id": "82f788bd",
   "metadata": {},
   "outputs": [
    {
     "data": {
      "text/html": [
       "<table class=\"dataframe\">\n",
       "<caption>A data.frame: 1 × 11</caption>\n",
       "<thead>\n",
       "\t<tr><th scope=col>estimator</th><th scope=col>term</th><th scope=col>estimate</th><th scope=col>std.error</th><th scope=col>statistic</th><th scope=col>p.value</th><th scope=col>conf.low</th><th scope=col>conf.high</th><th scope=col>df</th><th scope=col>outcome</th><th scope=col>inquiry</th></tr>\n",
       "\t<tr><th scope=col>&lt;chr&gt;</th><th scope=col>&lt;chr&gt;</th><th scope=col>&lt;dbl&gt;</th><th scope=col>&lt;dbl&gt;</th><th scope=col>&lt;dbl&gt;</th><th scope=col>&lt;dbl&gt;</th><th scope=col>&lt;dbl&gt;</th><th scope=col>&lt;dbl&gt;</th><th scope=col>&lt;dbl&gt;</th><th scope=col>&lt;chr&gt;</th><th scope=col>&lt;chr&gt;</th></tr>\n",
       "</thead>\n",
       "<tbody>\n",
       "\t<tr><td>estimator</td><td>Z</td><td>1.148202</td><td>0.2231321</td><td>5.145842</td><td>1.370055e-06</td><td>0.705404</td><td>1.591001</td><td>98</td><td>Y</td><td>ATE</td></tr>\n",
       "</tbody>\n",
       "</table>\n"
      ],
      "text/latex": [
       "A data.frame: 1 × 11\n",
       "\\begin{tabular}{lllllllllll}\n",
       " estimator & term & estimate & std.error & statistic & p.value & conf.low & conf.high & df & outcome & inquiry\\\\\n",
       " <chr> & <chr> & <dbl> & <dbl> & <dbl> & <dbl> & <dbl> & <dbl> & <dbl> & <chr> & <chr>\\\\\n",
       "\\hline\n",
       "\t estimator & Z & 1.148202 & 0.2231321 & 5.145842 & 1.370055e-06 & 0.705404 & 1.591001 & 98 & Y & ATE\\\\\n",
       "\\end{tabular}\n"
      ],
      "text/markdown": [
       "\n",
       "A data.frame: 1 × 11\n",
       "\n",
       "| estimator &lt;chr&gt; | term &lt;chr&gt; | estimate &lt;dbl&gt; | std.error &lt;dbl&gt; | statistic &lt;dbl&gt; | p.value &lt;dbl&gt; | conf.low &lt;dbl&gt; | conf.high &lt;dbl&gt; | df &lt;dbl&gt; | outcome &lt;chr&gt; | inquiry &lt;chr&gt; |\n",
       "|---|---|---|---|---|---|---|---|---|---|---|\n",
       "| estimator | Z | 1.148202 | 0.2231321 | 5.145842 | 1.370055e-06 | 0.705404 | 1.591001 | 98 | Y | ATE |\n",
       "\n"
      ],
      "text/plain": [
       "  estimator term estimate std.error statistic p.value      conf.low conf.high\n",
       "1 estimator Z    1.148202 0.2231321 5.145842  1.370055e-06 0.705404 1.591001 \n",
       "  df outcome inquiry\n",
       "1 98 Y       ATE    "
      ]
     },
     "metadata": {},
     "output_type": "display_data"
    }
   ],
   "source": [
    "draw_estimates(design_two_arm)"
   ]
  },
  {
   "cell_type": "code",
   "execution_count": 30,
   "id": "4dac4934",
   "metadata": {},
   "outputs": [
    {
     "name": "stderr",
     "output_type": "stream",
     "text": [
      "Warning message:\n",
      "“We recommend you choose a number of simulations higher than 30.”\n"
     ]
    },
    {
     "data": {
      "text/html": [
       "<table class=\"dataframe\">\n",
       "<caption>A data.frame: 3 × 14</caption>\n",
       "<thead>\n",
       "\t<tr><th scope=col>design</th><th scope=col>sim_ID</th><th scope=col>inquiry</th><th scope=col>estimand</th><th scope=col>estimator</th><th scope=col>term</th><th scope=col>estimate</th><th scope=col>std.error</th><th scope=col>statistic</th><th scope=col>p.value</th><th scope=col>conf.low</th><th scope=col>conf.high</th><th scope=col>df</th><th scope=col>outcome</th></tr>\n",
       "\t<tr><th scope=col>&lt;chr&gt;</th><th scope=col>&lt;int&gt;</th><th scope=col>&lt;chr&gt;</th><th scope=col>&lt;dbl&gt;</th><th scope=col>&lt;chr&gt;</th><th scope=col>&lt;chr&gt;</th><th scope=col>&lt;dbl&gt;</th><th scope=col>&lt;dbl&gt;</th><th scope=col>&lt;dbl&gt;</th><th scope=col>&lt;dbl&gt;</th><th scope=col>&lt;dbl&gt;</th><th scope=col>&lt;dbl&gt;</th><th scope=col>&lt;dbl&gt;</th><th scope=col>&lt;chr&gt;</th></tr>\n",
       "</thead>\n",
       "<tbody>\n",
       "\t<tr><td>design_two_arm</td><td>1</td><td>ATE</td><td>1</td><td>estimator</td><td>Z</td><td>0.7701154</td><td>0.1902542</td><td>4.047823</td><td>1.033323e-04</td><td>0.3925621</td><td>1.147669</td><td>98</td><td>Y</td></tr>\n",
       "\t<tr><td>design_two_arm</td><td>2</td><td>ATE</td><td>1</td><td>estimator</td><td>Z</td><td>0.9095218</td><td>0.2236282</td><td>4.067116</td><td>9.628426e-05</td><td>0.4657389</td><td>1.353305</td><td>98</td><td>Y</td></tr>\n",
       "\t<tr><td>design_two_arm</td><td>3</td><td>ATE</td><td>1</td><td>estimator</td><td>Z</td><td>1.4859902</td><td>0.2041970</td><td>7.277237</td><td>8.532577e-11</td><td>1.0807678</td><td>1.891213</td><td>98</td><td>Y</td></tr>\n",
       "</tbody>\n",
       "</table>\n"
      ],
      "text/latex": [
       "A data.frame: 3 × 14\n",
       "\\begin{tabular}{llllllllllllll}\n",
       " design & sim\\_ID & inquiry & estimand & estimator & term & estimate & std.error & statistic & p.value & conf.low & conf.high & df & outcome\\\\\n",
       " <chr> & <int> & <chr> & <dbl> & <chr> & <chr> & <dbl> & <dbl> & <dbl> & <dbl> & <dbl> & <dbl> & <dbl> & <chr>\\\\\n",
       "\\hline\n",
       "\t design\\_two\\_arm & 1 & ATE & 1 & estimator & Z & 0.7701154 & 0.1902542 & 4.047823 & 1.033323e-04 & 0.3925621 & 1.147669 & 98 & Y\\\\\n",
       "\t design\\_two\\_arm & 2 & ATE & 1 & estimator & Z & 0.9095218 & 0.2236282 & 4.067116 & 9.628426e-05 & 0.4657389 & 1.353305 & 98 & Y\\\\\n",
       "\t design\\_two\\_arm & 3 & ATE & 1 & estimator & Z & 1.4859902 & 0.2041970 & 7.277237 & 8.532577e-11 & 1.0807678 & 1.891213 & 98 & Y\\\\\n",
       "\\end{tabular}\n"
      ],
      "text/markdown": [
       "\n",
       "A data.frame: 3 × 14\n",
       "\n",
       "| design &lt;chr&gt; | sim_ID &lt;int&gt; | inquiry &lt;chr&gt; | estimand &lt;dbl&gt; | estimator &lt;chr&gt; | term &lt;chr&gt; | estimate &lt;dbl&gt; | std.error &lt;dbl&gt; | statistic &lt;dbl&gt; | p.value &lt;dbl&gt; | conf.low &lt;dbl&gt; | conf.high &lt;dbl&gt; | df &lt;dbl&gt; | outcome &lt;chr&gt; |\n",
       "|---|---|---|---|---|---|---|---|---|---|---|---|---|---|\n",
       "| design_two_arm | 1 | ATE | 1 | estimator | Z | 0.7701154 | 0.1902542 | 4.047823 | 1.033323e-04 | 0.3925621 | 1.147669 | 98 | Y |\n",
       "| design_two_arm | 2 | ATE | 1 | estimator | Z | 0.9095218 | 0.2236282 | 4.067116 | 9.628426e-05 | 0.4657389 | 1.353305 | 98 | Y |\n",
       "| design_two_arm | 3 | ATE | 1 | estimator | Z | 1.4859902 | 0.2041970 | 7.277237 | 8.532577e-11 | 1.0807678 | 1.891213 | 98 | Y |\n",
       "\n"
      ],
      "text/plain": [
       "  design         sim_ID inquiry estimand estimator term estimate  std.error\n",
       "1 design_two_arm 1      ATE     1        estimator Z    0.7701154 0.1902542\n",
       "2 design_two_arm 2      ATE     1        estimator Z    0.9095218 0.2236282\n",
       "3 design_two_arm 3      ATE     1        estimator Z    1.4859902 0.2041970\n",
       "  statistic p.value      conf.low  conf.high df outcome\n",
       "1 4.047823  1.033323e-04 0.3925621 1.147669  98 Y      \n",
       "2 4.067116  9.628426e-05 0.4657389 1.353305  98 Y      \n",
       "3 7.277237  8.532577e-11 1.0807678 1.891213  98 Y      "
      ]
     },
     "metadata": {},
     "output_type": "display_data"
    }
   ],
   "source": [
    "simulate_design(design_two_arm,sims=3)"
   ]
  },
  {
   "cell_type": "code",
   "execution_count": 31,
   "id": "c1277c86",
   "metadata": {},
   "outputs": [
    {
     "data": {
      "text/plain": [
       "\n",
       "Research design diagnosis based on 100 simulations. Diagnosis completed in 1 secs. Diagnosand estimates with bootstrapped standard errors in parentheses (100 replicates).\n",
       "\n",
       "         Design Inquiry Estimator Outcome Term N Sims Mean Estimand\n",
       " design_two_arm     ATE estimator       Y    Z    100          1.00\n",
       "                                                             (0.00)\n",
       " Mean Estimate   Bias SD Estimate   RMSE  Power Coverage\n",
       "          1.00   0.00        0.17   0.17   1.00     0.98\n",
       "        (0.02) (0.02)      (0.01) (0.01) (0.00)   (0.01)"
      ]
     },
     "metadata": {},
     "output_type": "display_data"
    }
   ],
   "source": [
    "diagnose_design(design_two_arm,sims=100)"
   ]
  }
 ],
 "metadata": {
  "jupytext": {
   "formats": "ipynb,Rmd"
  },
  "kernelspec": {
   "display_name": "R",
   "language": "R",
   "name": "ir"
  },
  "language_info": {
   "codemirror_mode": "r",
   "file_extension": ".r",
   "mimetype": "text/x-r-source",
   "name": "R",
   "pygments_lexer": "r",
   "version": "4.3.0"
  },
  "toc": {
   "base_numbering": 1,
   "nav_menu": {},
   "number_sections": true,
   "sideBar": true,
   "skip_h1_title": false,
   "title_cell": "Table of Contents",
   "title_sidebar": "Contents",
   "toc_cell": false,
   "toc_position": {},
   "toc_section_display": true,
   "toc_window_display": false
  }
 },
 "nbformat": 4,
 "nbformat_minor": 5
}
