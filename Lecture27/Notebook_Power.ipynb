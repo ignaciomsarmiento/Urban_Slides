{
 "cells": [
  {
   "cell_type": "markdown",
   "id": "51082487",
   "metadata": {},
   "source": [
    "# Analytical calculations of power\n",
    "\n",
    "- Formula:\n",
    "  \\begin{align*}\n",
    "  \\text{Power} &= \\Phi\\left(\\frac{|\\tau| \\sqrt{N}}{2\\sigma}- \\Phi^{-1}(1- \\frac{\\alpha}{2})\\right)\n",
    "  \\end{align*}\n",
    "\n",
    "- Components:\n",
    "  - $\\phi$: standard normal CDF is monotonically increasing\n",
    "  - $\\tau$: the effect size\n",
    "  - $N$: the sample size\n",
    "  - $\\sigma$: the standard deviation of the outcome\n",
    "  - $\\alpha$: the significance level (typically 0.05)"
   ]
  },
  {
   "cell_type": "code",
   "execution_count": 13,
   "id": "227d45d6",
   "metadata": {},
   "outputs": [
    {
     "name": "stderr",
     "output_type": "stream",
     "text": [
      "Loading required package: pwr\n",
      "\n"
     ]
    }
   ],
   "source": [
    "require(\"pwr\")"
   ]
  },
  {
   "cell_type": "code",
   "execution_count": 16,
   "id": "056b35a7",
   "metadata": {},
   "outputs": [
    {
     "data": {
      "text/plain": [
       "\n",
       "     Two-sample t test power calculation \n",
       "\n",
       "              n = 175\n",
       "              d = 0.3\n",
       "      sig.level = 0.05\n",
       "          power = 0.7991335\n",
       "    alternative = two.sided\n",
       "\n",
       "NOTE: n is number in *each* group\n"
      ]
     },
     "metadata": {},
     "output_type": "display_data"
    }
   ],
   "source": [
    "pwr.t.test(n = 175, d = 0.3, sig.level = 0.05, power = NULL )"
   ]
  },
  {
   "cell_type": "markdown",
   "id": "814ae7ff",
   "metadata": {},
   "source": [
    "### Effect Size: Minimum detectable effect\n",
    "\n",
    "  \\begin{align*}\n",
    "  \\tau &= \\left( t_{1-\\kappa} + t_{\\alpha} \\right) * \\sqrt{\\frac{1}{p(1-p)}}* \\sqrt{\\frac{\\sigma^2}{N}}\n",
    "  \\end{align*}\n",
    "  \n",
    "  - $1-\\kappa$ statistical power\n",
    "  \n"
   ]
  },
  {
   "cell_type": "markdown",
   "id": "f8eb389e",
   "metadata": {},
   "source": [
    "## Sample size for a given minimum detectable effect size "
   ]
  },
  {
   "cell_type": "code",
   "execution_count": 8,
   "id": "fc6b9fa2",
   "metadata": {},
   "outputs": [
    {
     "name": "stderr",
     "output_type": "stream",
     "text": [
      "Loading required package: pwrcalc\n",
      "\n",
      "Loading required package: magrittr\n",
      "\n"
     ]
    }
   ],
   "source": [
    "# https://github.com/vikjam/pwrcalc\n",
    "#devtools::install_github('vikjam/pwrcalc')\n",
    "require(\"pwrcalc\")"
   ]
  },
  {
   "cell_type": "code",
   "execution_count": 9,
   "id": "cc698f79",
   "metadata": {},
   "outputs": [
    {
     "data": {
      "text/plain": [
       "\n",
       "     Two-sample t-test power calculation \n",
       "\n",
       "             m1 = 0\n",
       "             m2 = 0.3\n",
       "             n1 = 175\n",
       "             n2 = 175\n",
       "      sig.level = 0.05\n",
       "          power = 0.8\n",
       "    alternative = two.sided\n",
       "\n",
       "NOTE: \r\n",
       "m1 and m2 are the means of group 1 and 2, respectively.\r\n",
       "n1 and n2 are the obs. of group 1 and 2, respectively.\n"
      ]
     },
     "metadata": {},
     "output_type": "display_data"
    }
   ],
   "source": [
    "\n",
    "\n",
    "power = 0.8                                                                     #SPECIFY - desired power\n",
    "nratio = 1                                                                      #SPECIFY - the ratio of the size of the treatment group to control group\n",
    "alpha =0.05                                                                     #SPECIFY - significance level\n",
    "p = nratio/(1+nratio)\n",
    "  \n",
    "baseline_mean <-  0                              #Record the mean of the outcome variable at baseline   \n",
    "baseline_sd <- 1                                      #Record the standard deviation of the outcome variable at baseline   \n",
    "  \n",
    "expected_effect = 0.3*baseline_sd                                             #The expected effect should be specified based on the intervention and the cost. \n",
    "                                                                                #Here it is 0.3 times the sd\n",
    "treated_mean <- expected_effect + baseline_mean\n",
    "  \n",
    "base_model = twomeans(m1 = baseline_mean, m2 = treated_mean, sd = baseline_sd, \n",
    "                        nratio=nratio, power=power, sig.level = alpha)\n",
    "\n",
    "base_model"
   ]
  },
  {
   "cell_type": "code",
   "execution_count": 10,
   "id": "226a6705",
   "metadata": {},
   "outputs": [
    {
     "name": "stdout",
     "output_type": "stream",
     "text": [
      "We need a minimum treatment size of 175 and control size of 175 to detect an effect of 0.3 with a probability of 0.8 if the effect is true and the ratio of the treatment and control is 1"
     ]
    }
   ],
   "source": [
    "cat(\"We need a minimum treatment size of\",base_model$n2,\"and control size of\", \n",
    "      base_model$n1, \"to detect an effect of\", \n",
    "      expected_effect, \"with a probability of\", \n",
    "      power,  \"if the effect is true and the ratio of the treatment and control is\",nratio)"
   ]
  },
  {
   "cell_type": "markdown",
   "id": "cbe32f11",
   "metadata": {},
   "source": [
    "\n",
    "## Limitations to analytical power calculations\n",
    "\n",
    "- Only derived for some test statistics (differences of means)\n",
    "\n",
    "- Makes specific assumptions about the data-generating process\n",
    "\n",
    "- Incompatible with more complex designs\n",
    "\n",
    "\n"
   ]
  },
  {
   "cell_type": "markdown",
   "id": "a91466b4",
   "metadata": {},
   "source": [
    "# Simulation-based power calculation\n",
    "\n",
    "- Create dataset and simulate research design.\n",
    "\n",
    "- Assumptions are necessary for simulation studies, but you make your own.\n",
    "\n",
    "- For the DeclareDesign approach, see <https://declaredesign.org/>\n",
    "\n",
    "## Steps\n",
    "\n",
    "\n",
    "  - Modelo: conjunto de modelos de qué causa qué y cómo\n",
    "  \n",
    "  - Pregunta: una pregunta formulada en términos del modelo.\n",
    "  \n",
    "  - Estrategia de datos: el conjunto de procedimientos que utilizamos para recopilar información del mundo (muestreo, asignación, medición)\n",
    "     \n",
    "  - Estrategia de respuesta: cómo resumimos los datos producidos por la estrategia de datos\n"
   ]
  }
 ],
 "metadata": {
  "jupytext": {
   "formats": "ipynb,Rmd"
  },
  "kernelspec": {
   "display_name": "R",
   "language": "R",
   "name": "ir"
  },
  "language_info": {
   "codemirror_mode": "r",
   "file_extension": ".r",
   "mimetype": "text/x-r-source",
   "name": "R",
   "pygments_lexer": "r",
   "version": "4.3.0"
  },
  "toc": {
   "base_numbering": 1,
   "nav_menu": {},
   "number_sections": true,
   "sideBar": true,
   "skip_h1_title": false,
   "title_cell": "Table of Contents",
   "title_sidebar": "Contents",
   "toc_cell": false,
   "toc_position": {},
   "toc_section_display": true,
   "toc_window_display": false
  }
 },
 "nbformat": 4,
 "nbformat_minor": 5
}
