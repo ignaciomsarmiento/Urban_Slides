{
 "cells": [
  {
   "cell_type": "markdown",
   "id": "e6e7663f",
   "metadata": {},
   "source": [
    "# Experiment Designs "
   ]
  },
  {
   "cell_type": "markdown",
   "id": "68839059",
   "metadata": {},
   "source": [
    "## Experiment Design:  Power Analysis\n",
    "\n",
    "- We want to separate signal from noise.\n",
    "\n",
    "- Two errors that can be made\n",
    "\n",
    "\n",
    "<div >\n",
    "<img src = \"figures/matrix_2.png\" />\n",
    "</div>\n",
    "\n",
    "\n",
    "- Type I error = probability of rejecting the null hypothesis, given true effect $=$ 0.\n",
    "\n",
    "- Power (1- Type II error)= probability of rejecting null hypothesis, given true effect $\\ne$ 0.\n",
    "\n",
    "\n",
    "- Power, in other words, it is the ability to detect an effect given that it exists.\n",
    "\n",
    "- Power analysis is something we do **before** we run a study.\n",
    "\n",
    "  \n",
    "    - Helps you figure out the sample you need to detect a given effect size.\n",
    "    \n",
    "    - Or helps you figure out a minimal detectable difference given a set sample size.\n",
    "    \n",
    "    - May help you decide whether to run a study.\n",
    "\n",
    "\n",
    "### Approaches to power calculation\n",
    "\n",
    "\n",
    "    - Analytical calculations of power\n",
    "    - Simulation\n"
   ]
  },
  {
   "cell_type": "markdown",
   "id": "f2f57e07",
   "metadata": {},
   "source": [
    "## Analytical calculations of power\n",
    "\n",
    "- Formula:\n",
    "  \\begin{align*}\n",
    "  \\text{Power} &= \\Phi\\left(\\frac{|\\tau| \\sqrt{N}}{2\\sigma}- \\Phi^{-1}(1- \\frac{\\alpha}{2})\\right)\n",
    "  \\end{align*}\n",
    "\n",
    "- Components:\n",
    "  - $\\Phi$: standard normal CDF is monotonically increasing\n",
    "  - $\\tau$: the effect size\n",
    "  - $N$: the sample size\n",
    "  - $\\sigma$: the standard deviation of the outcome\n",
    "  - $\\alpha$: the significance level (typically 0.05)"
   ]
  },
  {
   "cell_type": "markdown",
   "id": "eda2e63a",
   "metadata": {},
   "source": [
    "\n",
    "#### Limitations to analytical power calculations\n",
    "\n",
    "- Only derived for some test statistics (differences of means)\n",
    "\n",
    "- Makes specific assumptions about the data-generating process\n",
    "\n",
    "- Incompatible with more complex designs\n",
    "\n",
    "\n"
   ]
  },
  {
   "cell_type": "markdown",
   "id": "261716a1",
   "metadata": {},
   "source": [
    "## Simulation-based power calculation\n",
    "\n",
    "- Create dataset and simulate research design.\n",
    "\n",
    "- Assumptions are necessary for simulation studies, but you make your own.\n",
    "\n",
    "- For the DeclareDesign approach, see <https://declaredesign.org/>\n",
    "\n",
    "### Steps\n",
    "\n",
    "\n",
    "  - Model\n",
    "  \n",
    "  - Inquiry\n",
    "  \n",
    "  - Data Strategy\n",
    "     \n",
    "  - Answer Strategy\n"
   ]
  },
  {
   "cell_type": "code",
   "execution_count": 1,
   "id": "d36adbf5",
   "metadata": {},
   "outputs": [
    {
     "name": "stderr",
     "output_type": "stream",
     "text": [
      "Loading required package: DeclareDesign\n",
      "\n",
      "Loading required package: randomizr\n",
      "\n",
      "Loading required package: fabricatr\n",
      "\n",
      "Loading required package: estimatr\n",
      "\n"
     ]
    }
   ],
   "source": [
    "require(\"DeclareDesign\")"
   ]
  },
  {
   "cell_type": "markdown",
   "id": "8e02c153",
   "metadata": {},
   "source": [
    "## Simple Design "
   ]
  },
  {
   "cell_type": "markdown",
   "id": "67273281",
   "metadata": {},
   "source": [
    "### Model\n",
    "\n",
    "- Models are theoretical abstractions we use to make sense of the world and organize our understanding of it.\n",
    "- Models describe the units, conditions, and outcomes that define inquiries. \n",
    "\n",
    "\n",
    "<div >\n",
    "    <img src = \"figures/figure-6-1.svg\" />\n",
    "</div>\n",
    "\n",
    "- To assess many properties of a research design we often need to make the leap from nonparametric models to parametric structural causal models. \n",
    "- We need to enumerate beliefs about \n",
    "    - effect sizes,\n",
    "    - specific functional forms, \n",
    "    - etc..\n",
    "    \n",
    "Since any particular choice for these parameters could be close or far from the truth, we will typically consider a range of plausible values for each model parameter.\n",
    "\n",
    "One possible parametric model is given by the following:\n",
    "\n",
    "$$\n",
    "Y = 1 \\times Z + U\n",
    "$$ \n",
    "\n"
   ]
  },
  {
   "cell_type": "code",
   "execution_count": 2,
   "id": "77e1b8ea",
   "metadata": {},
   "outputs": [],
   "source": [
    "design<-declare_model(\n",
    "        N=40,\n",
    "        U=rnorm(N,sd=1),\n",
    "        potential_outcomes(Y~ 1*Z +U)) +NULL"
   ]
  },
  {
   "cell_type": "code",
   "execution_count": 3,
   "id": "636f4c2e",
   "metadata": {},
   "outputs": [
    {
     "data": {
      "text/html": [
       "<table class=\"dataframe\">\n",
       "<caption>A data.frame: 10 × 4</caption>\n",
       "<thead>\n",
       "\t<tr><th></th><th scope=col>ID</th><th scope=col>U</th><th scope=col>Y_Z_0</th><th scope=col>Y_Z_1</th></tr>\n",
       "\t<tr><th></th><th scope=col>&lt;chr&gt;</th><th scope=col>&lt;dbl&gt;</th><th scope=col>&lt;dbl&gt;</th><th scope=col>&lt;dbl&gt;</th></tr>\n",
       "</thead>\n",
       "<tbody>\n",
       "\t<tr><th scope=row>1</th><td>01</td><td>-0.6407486</td><td>-0.6407486</td><td> 0.35925136</td></tr>\n",
       "\t<tr><th scope=row>2</th><td>02</td><td> 1.7772794</td><td> 1.7772794</td><td> 2.77727944</td></tr>\n",
       "\t<tr><th scope=row>3</th><td>03</td><td>-0.6683291</td><td>-0.6683291</td><td> 0.33167092</td></tr>\n",
       "\t<tr><th scope=row>4</th><td>04</td><td>-1.1606473</td><td>-1.1606473</td><td>-0.16064726</td></tr>\n",
       "\t<tr><th scope=row>5</th><td>05</td><td> 0.3833341</td><td> 0.3833341</td><td> 1.38333411</td></tr>\n",
       "\t<tr><th scope=row>6</th><td>06</td><td>-1.0256341</td><td>-1.0256341</td><td>-0.02563406</td></tr>\n",
       "\t<tr><th scope=row>7</th><td>07</td><td>-0.5897945</td><td>-0.5897945</td><td> 0.41020553</td></tr>\n",
       "\t<tr><th scope=row>8</th><td>08</td><td> 0.2275754</td><td> 0.2275754</td><td> 1.22757537</td></tr>\n",
       "\t<tr><th scope=row>9</th><td>09</td><td>-1.2450273</td><td>-1.2450273</td><td>-0.24502730</td></tr>\n",
       "\t<tr><th scope=row>10</th><td>10</td><td>-0.2992705</td><td>-0.2992705</td><td> 0.70072946</td></tr>\n",
       "</tbody>\n",
       "</table>\n"
      ],
      "text/latex": [
       "A data.frame: 10 × 4\n",
       "\\begin{tabular}{r|llll}\n",
       "  & ID & U & Y\\_Z\\_0 & Y\\_Z\\_1\\\\\n",
       "  & <chr> & <dbl> & <dbl> & <dbl>\\\\\n",
       "\\hline\n",
       "\t1 & 01 & -0.6407486 & -0.6407486 &  0.35925136\\\\\n",
       "\t2 & 02 &  1.7772794 &  1.7772794 &  2.77727944\\\\\n",
       "\t3 & 03 & -0.6683291 & -0.6683291 &  0.33167092\\\\\n",
       "\t4 & 04 & -1.1606473 & -1.1606473 & -0.16064726\\\\\n",
       "\t5 & 05 &  0.3833341 &  0.3833341 &  1.38333411\\\\\n",
       "\t6 & 06 & -1.0256341 & -1.0256341 & -0.02563406\\\\\n",
       "\t7 & 07 & -0.5897945 & -0.5897945 &  0.41020553\\\\\n",
       "\t8 & 08 &  0.2275754 &  0.2275754 &  1.22757537\\\\\n",
       "\t9 & 09 & -1.2450273 & -1.2450273 & -0.24502730\\\\\n",
       "\t10 & 10 & -0.2992705 & -0.2992705 &  0.70072946\\\\\n",
       "\\end{tabular}\n"
      ],
      "text/markdown": [
       "\n",
       "A data.frame: 10 × 4\n",
       "\n",
       "| <!--/--> | ID &lt;chr&gt; | U &lt;dbl&gt; | Y_Z_0 &lt;dbl&gt; | Y_Z_1 &lt;dbl&gt; |\n",
       "|---|---|---|---|---|\n",
       "| 1 | 01 | -0.6407486 | -0.6407486 |  0.35925136 |\n",
       "| 2 | 02 |  1.7772794 |  1.7772794 |  2.77727944 |\n",
       "| 3 | 03 | -0.6683291 | -0.6683291 |  0.33167092 |\n",
       "| 4 | 04 | -1.1606473 | -1.1606473 | -0.16064726 |\n",
       "| 5 | 05 |  0.3833341 |  0.3833341 |  1.38333411 |\n",
       "| 6 | 06 | -1.0256341 | -1.0256341 | -0.02563406 |\n",
       "| 7 | 07 | -0.5897945 | -0.5897945 |  0.41020553 |\n",
       "| 8 | 08 |  0.2275754 |  0.2275754 |  1.22757537 |\n",
       "| 9 | 09 | -1.2450273 | -1.2450273 | -0.24502730 |\n",
       "| 10 | 10 | -0.2992705 | -0.2992705 |  0.70072946 |\n",
       "\n"
      ],
      "text/plain": [
       "   ID U          Y_Z_0      Y_Z_1      \n",
       "1  01 -0.6407486 -0.6407486  0.35925136\n",
       "2  02  1.7772794  1.7772794  2.77727944\n",
       "3  03 -0.6683291 -0.6683291  0.33167092\n",
       "4  04 -1.1606473 -1.1606473 -0.16064726\n",
       "5  05  0.3833341  0.3833341  1.38333411\n",
       "6  06 -1.0256341 -1.0256341 -0.02563406\n",
       "7  07 -0.5897945 -0.5897945  0.41020553\n",
       "8  08  0.2275754  0.2275754  1.22757537\n",
       "9  09 -1.2450273 -1.2450273 -0.24502730\n",
       "10 10 -0.2992705 -0.2992705  0.70072946"
      ]
     },
     "metadata": {},
     "output_type": "display_data"
    }
   ],
   "source": [
    "head(draw_data(design),10)"
   ]
  },
  {
   "cell_type": "markdown",
   "id": "bb3e75b1",
   "metadata": {},
   "source": [
    "### Inquiry\n",
    "\n",
    "- An inquiry is a question we ask of the world, and in the same way, of our models of the world. \n",
    "- If we stipulate a reference model, then our inquiry is a summary of the model. \n",
    "- Suppose in some reference model that $Z$ affects $Y$. Inquiries might be: \n",
    "    - Descriptive: what is the average level of $Y$ when $Z=1$ , under the model? \n",
    "    - Causal: what is the average treatment effect of $Z$ on $Y$ ? \n",
    "    - etc.\n",
    "    \n",
    "- Here we defind our **estimand**:\n",
    "    - Estimand: Parameter in the population which is to be estimated in a statistical analysis\n",
    "    - Estimator: A rule for calculating an estimate of a given quantity based on observed data. Function of the observations, i.e., how observations are put together\n",
    "    - Estimation: The process of finding an estimate, or approximation.\n"
   ]
  },
  {
   "cell_type": "code",
   "execution_count": 4,
   "id": "9b790bd1",
   "metadata": {},
   "outputs": [],
   "source": [
    "design<- declare_model(\n",
    "            N=40,\n",
    "            U=rnorm(N,sd=1),\n",
    "            potential_outcomes(Y~ 1*Z +U )) "
   ]
  },
  {
   "cell_type": "markdown",
   "id": "223beef0",
   "metadata": {},
   "source": [
    "### Data strategy\n",
    "\n",
    "- Depending on the design, the data strategy could include decisions about any or all of the following: \n",
    "    - sampling: the procedure for selecting which units will be measured \n",
    "    - treatment assignment: procedure for allocating treatments to sampled unit\n",
    "    - measurement: measurement is the procedure for turning information about the sampled units into data.  \n",
    " \n"
   ]
  },
  {
   "cell_type": "code",
   "execution_count": 5,
   "id": "e257d28f",
   "metadata": {},
   "outputs": [],
   "source": [
    "design<- declare_model(\n",
    "            N=40,\n",
    "            U=rnorm(N,sd=1),\n",
    "            potential_outcomes(Y~ 1*Z +U )) \n"
   ]
  },
  {
   "cell_type": "markdown",
   "id": "93aa5c5a",
   "metadata": {},
   "source": [
    "### Answer Strategy\n",
    "\n",
    "-  The answer strategy is what we use to summarize the data produced by the data strategy. \n",
    "- Just like the inquiry summarizes a part of the model, the answer strategy summarizes a part of the data. \n",
    "- Answer strategies are functions that take in data and return answers, e.g. `lm`"
   ]
  },
  {
   "cell_type": "code",
   "execution_count": null,
   "id": "e2908b22",
   "metadata": {},
   "outputs": [],
   "source": []
  },
  {
   "cell_type": "markdown",
   "id": "50825798",
   "metadata": {},
   "source": [
    "## Diagnosis\n",
    "\n",
    "- Once a design is declared in code, diagnosing it is usually the easy part. \n",
    "- `diagnose_design` handles almost everything."
   ]
  },
  {
   "cell_type": "code",
   "execution_count": 6,
   "id": "ac76a20c",
   "metadata": {},
   "outputs": [
    {
     "ename": "ERROR",
     "evalue": "Error in check_design_class(designs): Please only send design objects or functions with no arguments.\n",
     "output_type": "error",
     "traceback": [
      "Error in check_design_class(designs): Please only send design objects or functions with no arguments.\nTraceback:\n",
      "1. diagnose_design(design, sims = 250)",
      "2. simulate_design(!!!dots, sims = sims)",
      "3. dots_to_list_of_designs(...)",
      "4. check_design_class(designs)",
      "5. stop(\"Please only send design objects or functions with no arguments.\")"
     ]
    }
   ],
   "source": [
    "diagnose_design(design,sims=250)"
   ]
  },
  {
   "cell_type": "markdown",
   "id": "1fcdb067",
   "metadata": {},
   "source": [
    "### Redesign\n",
    "\n",
    "- More often, you’ll vary designs over a parameter with redesign to assess your experimental design. \n",
    "- Any quantity that you define in the global environment and use in a declaration step can become a parameter like this and then altered via redesign."
   ]
  },
  {
   "cell_type": "code",
   "execution_count": null,
   "id": "7d8a4966",
   "metadata": {},
   "outputs": [],
   "source": []
  },
  {
   "cell_type": "markdown",
   "id": "db2c4985",
   "metadata": {},
   "source": [
    "## Simple discrimination design\n",
    "\n",
    "- Consider White, Nathan, and Faller (2015), which seeks to measure discrimination against Latinos by election officials through assessing whether election officials respond to emailed requests for information from Latino or White voters.\n",
    "\n",
    "- Discriminators are defined by their behavior: they would respond to the White voter but not to the Latino voter. \n",
    "\n",
    "- We imagine three types of election officials: those who would always respond to the request (regardless of the emailer’s ethnicity), those who would never respond to the request (again regardless of the emailer’s ethnicity), and officials who discriminate against Latinos. "
   ]
  },
  {
   "cell_type": "markdown",
   "id": "7a11f149",
   "metadata": {},
   "source": [
    "| Type                      | Yi(Zi=White) | Yi(Zi=Latino) |\n",
    "|---------------------------|--------------|---------------|\n",
    "| Always-responder          | 1            | 1             |\n",
    "| Anti-Latino discriminator | 1            | 0             |\n",
    "| Never-responder           | 0            | 0             |"
   ]
  },
  {
   "cell_type": "markdown",
   "id": "9e67e22a",
   "metadata": {},
   "source": [
    "The inquiry here is descriptive: *the fraction of the sample that discriminates*: \n",
    "$$\n",
    "\\mathbb{E}[\\textrm{Type}_i = \\textrm{Anti}~\\textrm{Latino}~\\textrm{discriminator}]\n",
    "$$"
   ]
  },
  {
   "cell_type": "code",
   "execution_count": null,
   "id": "c06cd80a",
   "metadata": {},
   "outputs": [],
   "source": []
  },
  {
   "cell_type": "markdown",
   "id": "e253e6c8",
   "metadata": {},
   "source": [
    "## Simple design consistent with [Christensen et al. (2021)](https://www.nber.org/system/files/working_papers/w29516/w29516.pdf)"
   ]
  },
  {
   "cell_type": "markdown",
   "id": "7853c0dc",
   "metadata": {},
   "source": [
    "<div >\n",
    "    <img src = \"figures/christensen1.png\" style=\"width:600px;height:400px;\"/>\n",
    "</div>"
   ]
  },
  {
   "cell_type": "code",
   "execution_count": null,
   "id": "7244d3b1",
   "metadata": {},
   "outputs": [],
   "source": []
  },
  {
   "cell_type": "markdown",
   "id": "5701c593",
   "metadata": {},
   "source": [
    "<div >\n",
    "    <img src = \"figures/christensen2.png\" style=\"height:100px;\"/>\n",
    "</div>"
   ]
  },
  {
   "cell_type": "code",
   "execution_count": null,
   "id": "11014da4",
   "metadata": {},
   "outputs": [],
   "source": []
  },
  {
   "cell_type": "markdown",
   "id": "5dac5639",
   "metadata": {},
   "source": [
    "## Simple design consistent with [Christensen et al. (2022)](https://direct.mit.edu/rest/article-abstract/104/4/807/97712/Housing-Discrimination-and-the-Toxics-Exposure-Gap?redirectedFrom=fulltext)"
   ]
  },
  {
   "cell_type": "markdown",
   "id": "8ad7409a",
   "metadata": {},
   "source": [
    "<div >\n",
    "    <img src = \"figures/fig4_ba.png\" style=\"height:500px;\"/>\n",
    "</div>"
   ]
  },
  {
   "cell_type": "code",
   "execution_count": null,
   "id": "8b9d045b",
   "metadata": {},
   "outputs": [],
   "source": []
  }
 ],
 "metadata": {
  "jupytext": {
   "formats": "ipynb,Rmd"
  },
  "kernelspec": {
   "display_name": "R",
   "language": "R",
   "name": "ir"
  },
  "language_info": {
   "codemirror_mode": "r",
   "file_extension": ".r",
   "mimetype": "text/x-r-source",
   "name": "R",
   "pygments_lexer": "r",
   "version": "4.3.0"
  },
  "toc": {
   "base_numbering": 1,
   "nav_menu": {},
   "number_sections": true,
   "sideBar": true,
   "skip_h1_title": false,
   "title_cell": "Table of Contents",
   "title_sidebar": "Contents",
   "toc_cell": false,
   "toc_position": {},
   "toc_section_display": true,
   "toc_window_display": false
  }
 },
 "nbformat": 4,
 "nbformat_minor": 5
}
