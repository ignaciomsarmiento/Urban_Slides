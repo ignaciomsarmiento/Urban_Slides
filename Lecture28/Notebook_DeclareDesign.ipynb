{
 "cells": [
  {
   "cell_type": "markdown",
   "id": "b35ddf9a",
   "metadata": {},
   "source": [
    "# Experiment Designs "
   ]
  },
  {
   "cell_type": "markdown",
   "id": "40792975",
   "metadata": {},
   "source": [
    "## Experiment Design:  Power Analysis\n",
    "\n",
    "- We want to separate signal from noise.\n",
    "\n",
    "- Two errors that can be made\n",
    "\n",
    "\n",
    "<div >\n",
    "<img src = \"figures/matrix_2.png\" />\n",
    "</div>\n",
    "\n",
    "\n",
    "- Type I error = probability of rejecting the null hypothesis, given true effect $=$ 0.\n",
    "\n",
    "- Power (1- Type II error)= probability of rejecting null hypothesis, given true effect $\\ne$ 0.\n",
    "\n",
    "\n",
    "- Power, in other words, it is the ability to detect an effect given that it exists.\n",
    "\n",
    "- Power analysis is something we do **before** we run a study.\n",
    "\n",
    "  \n",
    "    - Helps you figure out the sample you need to detect a given effect size.\n",
    "    \n",
    "    - Or helps you figure out a minimal detectable difference given a set sample size.\n",
    "    \n",
    "    - May help you decide whether to run a study.\n",
    "\n",
    "\n",
    "### Approaches to power calculation\n",
    "\n",
    "\n",
    "    - Analytical calculations of power\n",
    "    - Simulation\n"
   ]
  },
  {
   "cell_type": "markdown",
   "id": "f2f57e07",
   "metadata": {},
   "source": [
    "## Analytical calculations of power\n",
    "\n",
    "- Formula:\n",
    "  \\begin{align*}\n",
    "  \\text{Power} &= \\Phi\\left(\\frac{|\\tau| \\sqrt{N}}{2\\sigma}- \\Phi^{-1}(1- \\frac{\\alpha}{2})\\right)\n",
    "  \\end{align*}\n",
    "\n",
    "- Components:\n",
    "  - $\\Phi$: standard normal CDF is monotonically increasing\n",
    "  - $\\tau$: the effect size\n",
    "  - $N$: the sample size\n",
    "  - $\\sigma$: the standard deviation of the outcome\n",
    "  - $\\alpha$: the significance level (typically 0.05)"
   ]
  },
  {
   "cell_type": "markdown",
   "id": "eda2e63a",
   "metadata": {},
   "source": [
    "\n",
    "#### Limitations to analytical power calculations\n",
    "\n",
    "- Only derived for some test statistics (differences of means)\n",
    "\n",
    "- Makes specific assumptions about the data-generating process\n",
    "\n",
    "- Incompatible with more complex designs\n",
    "\n",
    "\n"
   ]
  },
  {
   "cell_type": "markdown",
   "id": "261716a1",
   "metadata": {},
   "source": [
    "## Simulation-based power calculation\n",
    "\n",
    "- Create dataset and simulate research design.\n",
    "\n",
    "- Assumptions are necessary for simulation studies, but you make your own.\n",
    "\n",
    "- For the DeclareDesign approach, see <https://declaredesign.org/>\n",
    "\n",
    "### Steps\n",
    "\n",
    "\n",
    "  - Model\n",
    "  \n",
    "  - Inquiry\n",
    "  \n",
    "  - Data Strategy\n",
    "     \n",
    "  - Answer Strategy\n"
   ]
  },
  {
   "cell_type": "code",
   "execution_count": 1,
   "id": "d36adbf5",
   "metadata": {},
   "outputs": [
    {
     "name": "stderr",
     "output_type": "stream",
     "text": [
      "Loading required package: DeclareDesign\n",
      "\n",
      "Loading required package: randomizr\n",
      "\n",
      "Loading required package: fabricatr\n",
      "\n",
      "Loading required package: estimatr\n",
      "\n"
     ]
    }
   ],
   "source": [
    "require(\"DeclareDesign\")"
   ]
  },
  {
   "cell_type": "markdown",
   "id": "8e02c153",
   "metadata": {},
   "source": [
    "## Simple Design "
   ]
  },
  {
   "cell_type": "markdown",
   "id": "ecae8c55",
   "metadata": {},
   "source": [
    "### Model\n",
    "\n",
    "- Models are theoretical abstractions we use to make sense of the world and organize our understanding of it.\n",
    "- Models describe the units, conditions, and outcomes that define inquiries. \n",
    "\n",
    "\n",
    "<div >\n",
    "    <img src = \"figures/figure-6-1.svg\" />\n",
    "</div>\n",
    "\n",
    "- To assess many properties of a research design we often need to make the leap from nonparametric models to parametric structural causal models. \n",
    "- We need to enumerate beliefs about \n",
    "    - effect sizes,\n",
    "    - specific functional forms, \n",
    "    - etc..\n",
    "    \n",
    "Since any particular choice for these parameters could be close or far from the truth, we will typically consider a range of plausible values for each model parameter.\n",
    "\n",
    "One possible parametric model is given by the following:\n",
    "\n",
    "$$\n",
    "Y = 1 \\times Z + U\n",
    "$$ \n",
    "\n"
   ]
  },
  {
   "cell_type": "code",
   "execution_count": 5,
   "id": "77e1b8ea",
   "metadata": {},
   "outputs": [],
   "source": [
    "design<-declare_model(\n",
    "        N=40,\n",
    "        U=rnorm(N,sd=1),\n",
    "        potential_outcomes(Y~ 1*Z +U)) +NULL"
   ]
  },
  {
   "cell_type": "code",
   "execution_count": 6,
   "id": "636f4c2e",
   "metadata": {},
   "outputs": [
    {
     "data": {
      "text/html": [
       "<table class=\"dataframe\">\n",
       "<caption>A data.frame: 10 × 4</caption>\n",
       "<thead>\n",
       "\t<tr><th></th><th scope=col>ID</th><th scope=col>U</th><th scope=col>Y_Z_0</th><th scope=col>Y_Z_1</th></tr>\n",
       "\t<tr><th></th><th scope=col>&lt;chr&gt;</th><th scope=col>&lt;dbl&gt;</th><th scope=col>&lt;dbl&gt;</th><th scope=col>&lt;dbl&gt;</th></tr>\n",
       "</thead>\n",
       "<tbody>\n",
       "\t<tr><th scope=row>1</th><td>01</td><td> 1.05472849</td><td> 1.05472849</td><td> 2.0547285</td></tr>\n",
       "\t<tr><th scope=row>2</th><td>02</td><td> 0.62283787</td><td> 0.62283787</td><td> 1.6228379</td></tr>\n",
       "\t<tr><th scope=row>3</th><td>03</td><td> 0.81430292</td><td> 0.81430292</td><td> 1.8143029</td></tr>\n",
       "\t<tr><th scope=row>4</th><td>04</td><td>-0.01589005</td><td>-0.01589005</td><td> 0.9841100</td></tr>\n",
       "\t<tr><th scope=row>5</th><td>05</td><td>-1.15118771</td><td>-1.15118771</td><td>-0.1511877</td></tr>\n",
       "\t<tr><th scope=row>6</th><td>06</td><td>-0.47855506</td><td>-0.47855506</td><td> 0.5214449</td></tr>\n",
       "\t<tr><th scope=row>7</th><td>07</td><td>-0.23671762</td><td>-0.23671762</td><td> 0.7632824</td></tr>\n",
       "\t<tr><th scope=row>8</th><td>08</td><td> 1.18447559</td><td> 1.18447559</td><td> 2.1844756</td></tr>\n",
       "\t<tr><th scope=row>9</th><td>09</td><td>-0.70920306</td><td>-0.70920306</td><td> 0.2907969</td></tr>\n",
       "\t<tr><th scope=row>10</th><td>10</td><td> 0.86540240</td><td> 0.86540240</td><td> 1.8654024</td></tr>\n",
       "</tbody>\n",
       "</table>\n"
      ],
      "text/latex": [
       "A data.frame: 10 × 4\n",
       "\\begin{tabular}{r|llll}\n",
       "  & ID & U & Y\\_Z\\_0 & Y\\_Z\\_1\\\\\n",
       "  & <chr> & <dbl> & <dbl> & <dbl>\\\\\n",
       "\\hline\n",
       "\t1 & 01 &  1.05472849 &  1.05472849 &  2.0547285\\\\\n",
       "\t2 & 02 &  0.62283787 &  0.62283787 &  1.6228379\\\\\n",
       "\t3 & 03 &  0.81430292 &  0.81430292 &  1.8143029\\\\\n",
       "\t4 & 04 & -0.01589005 & -0.01589005 &  0.9841100\\\\\n",
       "\t5 & 05 & -1.15118771 & -1.15118771 & -0.1511877\\\\\n",
       "\t6 & 06 & -0.47855506 & -0.47855506 &  0.5214449\\\\\n",
       "\t7 & 07 & -0.23671762 & -0.23671762 &  0.7632824\\\\\n",
       "\t8 & 08 &  1.18447559 &  1.18447559 &  2.1844756\\\\\n",
       "\t9 & 09 & -0.70920306 & -0.70920306 &  0.2907969\\\\\n",
       "\t10 & 10 &  0.86540240 &  0.86540240 &  1.8654024\\\\\n",
       "\\end{tabular}\n"
      ],
      "text/markdown": [
       "\n",
       "A data.frame: 10 × 4\n",
       "\n",
       "| <!--/--> | ID &lt;chr&gt; | U &lt;dbl&gt; | Y_Z_0 &lt;dbl&gt; | Y_Z_1 &lt;dbl&gt; |\n",
       "|---|---|---|---|---|\n",
       "| 1 | 01 |  1.05472849 |  1.05472849 |  2.0547285 |\n",
       "| 2 | 02 |  0.62283787 |  0.62283787 |  1.6228379 |\n",
       "| 3 | 03 |  0.81430292 |  0.81430292 |  1.8143029 |\n",
       "| 4 | 04 | -0.01589005 | -0.01589005 |  0.9841100 |\n",
       "| 5 | 05 | -1.15118771 | -1.15118771 | -0.1511877 |\n",
       "| 6 | 06 | -0.47855506 | -0.47855506 |  0.5214449 |\n",
       "| 7 | 07 | -0.23671762 | -0.23671762 |  0.7632824 |\n",
       "| 8 | 08 |  1.18447559 |  1.18447559 |  2.1844756 |\n",
       "| 9 | 09 | -0.70920306 | -0.70920306 |  0.2907969 |\n",
       "| 10 | 10 |  0.86540240 |  0.86540240 |  1.8654024 |\n",
       "\n"
      ],
      "text/plain": [
       "   ID U           Y_Z_0       Y_Z_1     \n",
       "1  01  1.05472849  1.05472849  2.0547285\n",
       "2  02  0.62283787  0.62283787  1.6228379\n",
       "3  03  0.81430292  0.81430292  1.8143029\n",
       "4  04 -0.01589005 -0.01589005  0.9841100\n",
       "5  05 -1.15118771 -1.15118771 -0.1511877\n",
       "6  06 -0.47855506 -0.47855506  0.5214449\n",
       "7  07 -0.23671762 -0.23671762  0.7632824\n",
       "8  08  1.18447559  1.18447559  2.1844756\n",
       "9  09 -0.70920306 -0.70920306  0.2907969\n",
       "10 10  0.86540240  0.86540240  1.8654024"
      ]
     },
     "metadata": {},
     "output_type": "display_data"
    }
   ],
   "source": [
    "head(draw_data(design),10)"
   ]
  },
  {
   "cell_type": "markdown",
   "id": "a212b677",
   "metadata": {},
   "source": [
    "### Inquiry\n",
    "\n",
    "- An inquiry is a question we ask of the world, and in the same way, of our models of the world. \n",
    "- If we stipulate a reference model, then our inquiry is a summary of the model. \n",
    "- Suppose in some reference model that $Z$ affects $Y$. Inquiries might be: \n",
    "    - Descriptive: what is the average level of $Y$ when $Z=1$ , under the model? \n",
    "    - Causal: what is the average treatment effect of $Z$ on $Y$ ? \n",
    "    - etc.\n",
    "    \n",
    "- Here we defind our **estimand**:\n",
    "    - Estimand: Parameter in the population which is to be estimated in a statistical analysis\n",
    "    - Estimator: A rule for calculating an estimate of a given quantity based on observed data. Function of the observations, i.e., how observations are put together\n",
    "    - Estimation: The process of finding an estimate, or approximation.\n"
   ]
  },
  {
   "cell_type": "code",
   "execution_count": 7,
   "id": "41f31081",
   "metadata": {},
   "outputs": [],
   "source": [
    "design<- declare_model(\n",
    "            N=40,\n",
    "            U=rnorm(N,sd=1),\n",
    "            potential_outcomes(Y~ 1*Z +U )) +\n",
    "            declare_inquiry(ATE=Y_Z_1-Y_Z_0)"
   ]
  },
  {
   "cell_type": "markdown",
   "id": "558a043f",
   "metadata": {},
   "source": [
    "### Data strategy\n",
    "\n",
    "- Depending on the design, the data strategy could include decisions about any or all of the following: \n",
    "    - sampling: the procedure for selecting which units will be measured \n",
    "    - treatment assignment: procedure for allocating treatments to sampled unit\n",
    "    - measurement: measurement is the procedure for turning information about the sampled units into data.  \n",
    " \n"
   ]
  },
  {
   "cell_type": "code",
   "execution_count": 8,
   "id": "97408fd8",
   "metadata": {},
   "outputs": [
    {
     "data": {
      "text/html": [
       "<table class=\"dataframe\">\n",
       "<caption>A data.frame: 10 × 6</caption>\n",
       "<thead>\n",
       "\t<tr><th></th><th scope=col>ID</th><th scope=col>U</th><th scope=col>Y_Z_0</th><th scope=col>Y_Z_1</th><th scope=col>Z</th><th scope=col>Y</th></tr>\n",
       "\t<tr><th></th><th scope=col>&lt;chr&gt;</th><th scope=col>&lt;dbl&gt;</th><th scope=col>&lt;dbl&gt;</th><th scope=col>&lt;dbl&gt;</th><th scope=col>&lt;int&gt;</th><th scope=col>&lt;dbl&gt;</th></tr>\n",
       "</thead>\n",
       "<tbody>\n",
       "\t<tr><th scope=row>1</th><td>01</td><td> 1.85922170</td><td> 1.85922170</td><td> 2.8592217</td><td>0</td><td> 1.8592217</td></tr>\n",
       "\t<tr><th scope=row>2</th><td>02</td><td>-0.50745310</td><td>-0.50745310</td><td> 0.4925469</td><td>1</td><td> 0.4925469</td></tr>\n",
       "\t<tr><th scope=row>3</th><td>03</td><td> 1.77076982</td><td> 1.77076982</td><td> 2.7707698</td><td>0</td><td> 1.7707698</td></tr>\n",
       "\t<tr><th scope=row>4</th><td>04</td><td> 2.24330975</td><td> 2.24330975</td><td> 3.2433098</td><td>1</td><td> 3.2433098</td></tr>\n",
       "\t<tr><th scope=row>5</th><td>05</td><td> 0.06768167</td><td> 0.06768167</td><td> 1.0676817</td><td>1</td><td> 1.0676817</td></tr>\n",
       "\t<tr><th scope=row>6</th><td>06</td><td> 0.86720465</td><td> 0.86720465</td><td> 1.8672046</td><td>0</td><td> 0.8672046</td></tr>\n",
       "\t<tr><th scope=row>7</th><td>07</td><td> 0.54163411</td><td> 0.54163411</td><td> 1.5416341</td><td>0</td><td> 0.5416341</td></tr>\n",
       "\t<tr><th scope=row>8</th><td>08</td><td>-1.30752463</td><td>-1.30752463</td><td>-0.3075246</td><td>1</td><td>-0.3075246</td></tr>\n",
       "\t<tr><th scope=row>9</th><td>09</td><td> 0.39134289</td><td> 0.39134289</td><td> 1.3913429</td><td>1</td><td> 1.3913429</td></tr>\n",
       "\t<tr><th scope=row>10</th><td>10</td><td>-0.27979642</td><td>-0.27979642</td><td> 0.7202036</td><td>0</td><td>-0.2797964</td></tr>\n",
       "</tbody>\n",
       "</table>\n"
      ],
      "text/latex": [
       "A data.frame: 10 × 6\n",
       "\\begin{tabular}{r|llllll}\n",
       "  & ID & U & Y\\_Z\\_0 & Y\\_Z\\_1 & Z & Y\\\\\n",
       "  & <chr> & <dbl> & <dbl> & <dbl> & <int> & <dbl>\\\\\n",
       "\\hline\n",
       "\t1 & 01 &  1.85922170 &  1.85922170 &  2.8592217 & 0 &  1.8592217\\\\\n",
       "\t2 & 02 & -0.50745310 & -0.50745310 &  0.4925469 & 1 &  0.4925469\\\\\n",
       "\t3 & 03 &  1.77076982 &  1.77076982 &  2.7707698 & 0 &  1.7707698\\\\\n",
       "\t4 & 04 &  2.24330975 &  2.24330975 &  3.2433098 & 1 &  3.2433098\\\\\n",
       "\t5 & 05 &  0.06768167 &  0.06768167 &  1.0676817 & 1 &  1.0676817\\\\\n",
       "\t6 & 06 &  0.86720465 &  0.86720465 &  1.8672046 & 0 &  0.8672046\\\\\n",
       "\t7 & 07 &  0.54163411 &  0.54163411 &  1.5416341 & 0 &  0.5416341\\\\\n",
       "\t8 & 08 & -1.30752463 & -1.30752463 & -0.3075246 & 1 & -0.3075246\\\\\n",
       "\t9 & 09 &  0.39134289 &  0.39134289 &  1.3913429 & 1 &  1.3913429\\\\\n",
       "\t10 & 10 & -0.27979642 & -0.27979642 &  0.7202036 & 0 & -0.2797964\\\\\n",
       "\\end{tabular}\n"
      ],
      "text/markdown": [
       "\n",
       "A data.frame: 10 × 6\n",
       "\n",
       "| <!--/--> | ID &lt;chr&gt; | U &lt;dbl&gt; | Y_Z_0 &lt;dbl&gt; | Y_Z_1 &lt;dbl&gt; | Z &lt;int&gt; | Y &lt;dbl&gt; |\n",
       "|---|---|---|---|---|---|---|\n",
       "| 1 | 01 |  1.85922170 |  1.85922170 |  2.8592217 | 0 |  1.8592217 |\n",
       "| 2 | 02 | -0.50745310 | -0.50745310 |  0.4925469 | 1 |  0.4925469 |\n",
       "| 3 | 03 |  1.77076982 |  1.77076982 |  2.7707698 | 0 |  1.7707698 |\n",
       "| 4 | 04 |  2.24330975 |  2.24330975 |  3.2433098 | 1 |  3.2433098 |\n",
       "| 5 | 05 |  0.06768167 |  0.06768167 |  1.0676817 | 1 |  1.0676817 |\n",
       "| 6 | 06 |  0.86720465 |  0.86720465 |  1.8672046 | 0 |  0.8672046 |\n",
       "| 7 | 07 |  0.54163411 |  0.54163411 |  1.5416341 | 0 |  0.5416341 |\n",
       "| 8 | 08 | -1.30752463 | -1.30752463 | -0.3075246 | 1 | -0.3075246 |\n",
       "| 9 | 09 |  0.39134289 |  0.39134289 |  1.3913429 | 1 |  1.3913429 |\n",
       "| 10 | 10 | -0.27979642 | -0.27979642 |  0.7202036 | 0 | -0.2797964 |\n",
       "\n"
      ],
      "text/plain": [
       "   ID U           Y_Z_0       Y_Z_1      Z Y         \n",
       "1  01  1.85922170  1.85922170  2.8592217 0  1.8592217\n",
       "2  02 -0.50745310 -0.50745310  0.4925469 1  0.4925469\n",
       "3  03  1.77076982  1.77076982  2.7707698 0  1.7707698\n",
       "4  04  2.24330975  2.24330975  3.2433098 1  3.2433098\n",
       "5  05  0.06768167  0.06768167  1.0676817 1  1.0676817\n",
       "6  06  0.86720465  0.86720465  1.8672046 0  0.8672046\n",
       "7  07  0.54163411  0.54163411  1.5416341 0  0.5416341\n",
       "8  08 -1.30752463 -1.30752463 -0.3075246 1 -0.3075246\n",
       "9  09  0.39134289  0.39134289  1.3913429 1  1.3913429\n",
       "10 10 -0.27979642 -0.27979642  0.7202036 0 -0.2797964"
      ]
     },
     "metadata": {},
     "output_type": "display_data"
    }
   ],
   "source": [
    "design<- declare_model(\n",
    "            N=40,\n",
    "            U=rnorm(N,sd=1),\n",
    "            potential_outcomes(Y~ 1*Z +U )) +\n",
    "            declare_inquiry(ATE=Y_Z_1-Y_Z_0) + \n",
    "            declare_assignment(Z=complete_ra(N,prob=0.5)) +\n",
    "            declare_measurement(Y=reveal_outcomes(Y~Z))\n",
    "\n",
    "head(draw_data(design),10)"
   ]
  },
  {
   "cell_type": "markdown",
   "id": "124ea0c1",
   "metadata": {},
   "source": [
    "### Answer Strategy\n",
    "\n",
    "-  The answer strategy is what we use to summarize the data produced by the data strategy. \n",
    "- Just like the inquiry summarizes a part of the model, the answer strategy summarizes a part of the data. \n",
    "- Answer strategies are functions that take in data and return answers, e.g. `lm`"
   ]
  },
  {
   "cell_type": "code",
   "execution_count": 13,
   "id": "3fcfee0a",
   "metadata": {},
   "outputs": [],
   "source": [
    "design<- declare_model(\n",
    "            N=40,\n",
    "            U=rnorm(N,sd=1),\n",
    "            potential_outcomes(Y~ 1*Z +U )) +\n",
    "            declare_inquiry(ATE=mean(Y_Z_1-Y_Z_0)) + \n",
    "            declare_assignment(Z=complete_ra(N,prob=0.5)) +\n",
    "            declare_measurement(Y=reveal_outcomes(Y~Z))+\n",
    "            declare_estimator(Y~Z,.method=lm)"
   ]
  },
  {
   "cell_type": "code",
   "execution_count": 14,
   "id": "c813449c",
   "metadata": {},
   "outputs": [
    {
     "data": {
      "text/html": [
       "<table class=\"dataframe\">\n",
       "<caption>A data.frame: 1 × 8</caption>\n",
       "<thead>\n",
       "\t<tr><th scope=col>estimator</th><th scope=col>term</th><th scope=col>estimate</th><th scope=col>std.error</th><th scope=col>statistic</th><th scope=col>p.value</th><th scope=col>conf.low</th><th scope=col>conf.high</th></tr>\n",
       "\t<tr><th scope=col>&lt;chr&gt;</th><th scope=col>&lt;chr&gt;</th><th scope=col>&lt;dbl&gt;</th><th scope=col>&lt;dbl&gt;</th><th scope=col>&lt;dbl&gt;</th><th scope=col>&lt;dbl&gt;</th><th scope=col>&lt;dbl&gt;</th><th scope=col>&lt;dbl&gt;</th></tr>\n",
       "</thead>\n",
       "<tbody>\n",
       "\t<tr><td>estimator</td><td>Z</td><td>0.7622985</td><td>0.3094354</td><td>2.463514</td><td>0.01839941</td><td>0.1358793</td><td>1.388718</td></tr>\n",
       "</tbody>\n",
       "</table>\n"
      ],
      "text/latex": [
       "A data.frame: 1 × 8\n",
       "\\begin{tabular}{llllllll}\n",
       " estimator & term & estimate & std.error & statistic & p.value & conf.low & conf.high\\\\\n",
       " <chr> & <chr> & <dbl> & <dbl> & <dbl> & <dbl> & <dbl> & <dbl>\\\\\n",
       "\\hline\n",
       "\t estimator & Z & 0.7622985 & 0.3094354 & 2.463514 & 0.01839941 & 0.1358793 & 1.388718\\\\\n",
       "\\end{tabular}\n"
      ],
      "text/markdown": [
       "\n",
       "A data.frame: 1 × 8\n",
       "\n",
       "| estimator &lt;chr&gt; | term &lt;chr&gt; | estimate &lt;dbl&gt; | std.error &lt;dbl&gt; | statistic &lt;dbl&gt; | p.value &lt;dbl&gt; | conf.low &lt;dbl&gt; | conf.high &lt;dbl&gt; |\n",
       "|---|---|---|---|---|---|---|---|\n",
       "| estimator | Z | 0.7622985 | 0.3094354 | 2.463514 | 0.01839941 | 0.1358793 | 1.388718 |\n",
       "\n"
      ],
      "text/plain": [
       "  estimator term estimate  std.error statistic p.value    conf.low  conf.high\n",
       "1 estimator Z    0.7622985 0.3094354 2.463514  0.01839941 0.1358793 1.388718 "
      ]
     },
     "metadata": {},
     "output_type": "display_data"
    }
   ],
   "source": [
    "draw_estimates(design)"
   ]
  },
  {
   "cell_type": "markdown",
   "id": "fa84fee2",
   "metadata": {},
   "source": [
    "## Diagnosis\n",
    "\n",
    "- Once a design is declared in code, diagnosing it is usually the easy part. \n",
    "- `diagnose_design` handles almost everything."
   ]
  },
  {
   "cell_type": "code",
   "execution_count": 15,
   "id": "c89d079c",
   "metadata": {},
   "outputs": [
    {
     "data": {
      "text/plain": [
       "\n",
       "Research design diagnosis based on 30 simulations. Diagnosis completed in 1 secs. Diagnosand estimates with bootstrapped standard errors in parentheses (100 replicates).\n",
       "\n",
       " Design Inquiry Estimator Term N Sims Mean Estimand Mean Estimate   Bias\n",
       " design     ATE estimator    Z     30          1.00          1.03   0.03\n",
       "                                             (0.00)        (0.06) (0.06)\n",
       " SD Estimate   RMSE  Power Coverage\n",
       "        0.38   0.38   0.90     0.90\n",
       "      (0.04) (0.04) (0.06)   (0.05)"
      ]
     },
     "metadata": {},
     "output_type": "display_data"
    }
   ],
   "source": [
    "diagnose_design(design,sims=30)"
   ]
  },
  {
   "cell_type": "markdown",
   "id": "12383897",
   "metadata": {},
   "source": [
    "### Redesign\n",
    "\n",
    "- More often, you’ll vary designs over a parameter with redesign to assess your experimental design. \n",
    "- Any quantity that you define in the global environment and use in a declaration step can become a parameter like this and then altered via redesign."
   ]
  },
  {
   "cell_type": "code",
   "execution_count": 21,
   "id": "b6aee5e7",
   "metadata": {},
   "outputs": [],
   "source": [
    "\n",
    "\n",
    "design4<- declare_model(\n",
    "            N=sample_size,\n",
    "            U=rnorm(N,sd=1),\n",
    "            potential_outcomes(Y~ ates*Z +U )) + \n",
    "        declare_inquiry(ATE=mean(Y_Z_1-Y_Z_0)) +\n",
    "        declare_assignment(Z=complete_ra(N,prob=0.5)) + \n",
    "        declare_measurement(Y=reveal_outcomes(Y~Z)) +\n",
    "        declare_estimator(Y~Z,term=\"Z\", .method=lm)"
   ]
  },
  {
   "cell_type": "code",
   "execution_count": 22,
   "id": "d8139528",
   "metadata": {},
   "outputs": [
    {
     "data": {
      "text/plain": [
       "\n",
       "Research design diagnosis based on 30 simulations. Diagnosis completed in 4 secs. Diagnosand estimates with bootstrapped standard errors in parentheses (100 replicates).\n",
       "\n",
       "   Design ates sample_size Inquiry Estimator Term N Sims Mean Estimand\n",
       " design_1  0.5          20     ATE estimator    Z     30          0.50\n",
       "                                                                (0.00)\n",
       " design_2    1          20     ATE estimator    Z     30          1.00\n",
       "                                                                (0.00)\n",
       " design_3  1.5          20     ATE estimator    Z     30          1.50\n",
       "                                                                (0.00)\n",
       " design_4  0.5          40     ATE estimator    Z     30          0.50\n",
       "                                                                (0.00)\n",
       " design_5    1          40     ATE estimator    Z     30          1.00\n",
       "                                                                (0.00)\n",
       " design_6  1.5          40     ATE estimator    Z     30          1.50\n",
       "                                                                (0.00)\n",
       " design_7  0.5          50     ATE estimator    Z     30          0.50\n",
       "                                                                (0.00)\n",
       " design_8    1          50     ATE estimator    Z     30          1.00\n",
       "                                                                (0.00)\n",
       " design_9  1.5          50     ATE estimator    Z     30          1.50\n",
       "                                                                (0.00)\n",
       " Mean Estimate   Bias SD Estimate   RMSE  Power Coverage\n",
       "          0.42  -0.08        0.44   0.44   0.13     0.90\n",
       "        (0.07) (0.07)      (0.05) (0.05) (0.06)   (0.06)\n",
       "          0.96  -0.04        0.42   0.41   0.50     0.93\n",
       "        (0.07) (0.07)      (0.06) (0.06) (0.08)   (0.05)\n",
       "          1.45  -0.05        0.42   0.41   0.93     0.93\n",
       "        (0.07) (0.07)      (0.06) (0.05) (0.04)   (0.05)\n",
       "          0.54   0.04        0.38   0.38   0.37     0.90\n",
       "        (0.07) (0.07)      (0.04) (0.04) (0.09)   (0.05)\n",
       "          1.03   0.03        0.37   0.37   0.90     0.90\n",
       "        (0.07) (0.07)      (0.04) (0.04) (0.05)   (0.05)\n",
       "          1.47  -0.03        0.33   0.32   1.00     1.00\n",
       "        (0.06) (0.06)      (0.04) (0.04) (0.00)   (0.00)\n",
       "          0.46  -0.04        0.25   0.24   0.30     1.00\n",
       "        (0.04) (0.04)      (0.03) (0.03) (0.09)   (0.00)\n",
       "          0.95  -0.05        0.24   0.24   0.93     1.00\n",
       "        (0.04) (0.04)      (0.03) (0.03) (0.04)   (0.00)\n",
       "          1.44  -0.06        0.28   0.28   1.00     0.97\n",
       "        (0.05) (0.05)      (0.03) (0.03) (0.00)   (0.03)"
      ]
     },
     "metadata": {},
     "output_type": "display_data"
    }
   ],
   "source": [
    "multiple_desing<-redesign(design4,ates=c(0.5,1,1.5),\n",
    "sample_size=c(20,40,50))\n",
    "\n",
    "diagnose_design(multiple_desing,sims=30)"
   ]
  },
  {
   "cell_type": "markdown",
   "id": "c74dc7b0",
   "metadata": {},
   "source": [
    "## Simple discrimination design\n",
    "\n",
    "- Consider White, Nathan, and Faller (2015), which seeks to measure discrimination against Latinos by election officials through assessing whether election officials respond to emailed requests for information from Latino or White voters.\n",
    "\n",
    "- Discriminators are defined by their behavior: they would respond to the White voter but not to the Latino voter. \n",
    "\n",
    "- We imagine three types of election officials: those who would always respond to the request (regardless of the emailer’s ethnicity), those who would never respond to the request (again regardless of the emailer’s ethnicity), and officials who discriminate against Latinos. "
   ]
  },
  {
   "cell_type": "markdown",
   "id": "3b636f76",
   "metadata": {},
   "source": [
    "| Type                      | Yi(Zi=White) | Yi(Zi=Latino) |\n",
    "|---------------------------|--------------|---------------|\n",
    "| Always-responder          | 1            | 1             |\n",
    "| Anti-Latino discriminator | 1            | 0             |\n",
    "| Never-responder           | 0            | 0             |"
   ]
  },
  {
   "cell_type": "markdown",
   "id": "5471316a",
   "metadata": {},
   "source": [
    "The inquiry here is descriptive: *the fraction of the sample that discriminates*: \n",
    "$$\n",
    "\\mathbb{E}[\\textrm{Type}_i = \\textrm{Anti}~\\textrm{Latino}~\\textrm{discriminator}]\n",
    "$$"
   ]
  },
  {
   "cell_type": "code",
   "execution_count": null,
   "id": "e2f5d0a3",
   "metadata": {},
   "outputs": [],
   "source": []
  },
  {
   "cell_type": "markdown",
   "id": "6b1ff0c5",
   "metadata": {},
   "source": [
    "## Simple design consistent with [Christensen et al. (2021)](https://www.nber.org/system/files/working_papers/w29516/w29516.pdf)"
   ]
  },
  {
   "cell_type": "markdown",
   "id": "c984f6e2",
   "metadata": {},
   "source": [
    "<div >\n",
    "    <img src = \"figures/christensen1.png\" style=\"width:600px;height:400px;\"/>\n",
    "</div>"
   ]
  },
  {
   "cell_type": "code",
   "execution_count": 27,
   "id": "f6586e92",
   "metadata": {},
   "outputs": [
    {
     "name": "stderr",
     "output_type": "stream",
     "text": [
      "Loading required package: tidyverse\n",
      "\n",
      "── \u001b[1mAttaching core tidyverse packages\u001b[22m ────────────────────────────────────────────────────────────────────────────────────────────────────────────────────────── tidyverse 2.0.0 ──\n",
      "\u001b[32m✔\u001b[39m \u001b[34mdplyr    \u001b[39m 1.1.2     \u001b[32m✔\u001b[39m \u001b[34mreadr    \u001b[39m 2.1.4\n",
      "\u001b[32m✔\u001b[39m \u001b[34mforcats  \u001b[39m 1.0.0     \u001b[32m✔\u001b[39m \u001b[34mstringr  \u001b[39m 1.5.0\n",
      "\u001b[32m✔\u001b[39m \u001b[34mggplot2  \u001b[39m 3.4.2     \u001b[32m✔\u001b[39m \u001b[34mtibble   \u001b[39m 3.2.1\n",
      "\u001b[32m✔\u001b[39m \u001b[34mlubridate\u001b[39m 1.9.2     \u001b[32m✔\u001b[39m \u001b[34mtidyr    \u001b[39m 1.3.0\n",
      "\u001b[32m✔\u001b[39m \u001b[34mpurrr    \u001b[39m 1.0.1     \n",
      "── \u001b[1mConflicts\u001b[22m ──────────────────────────────────────────────────────────────────────────────────────────────────────────────────────────────────────────── tidyverse_conflicts() ──\n",
      "\u001b[31m✖\u001b[39m \u001b[34mdplyr\u001b[39m::\u001b[32mfilter()\u001b[39m masks \u001b[34mstats\u001b[39m::filter()\n",
      "\u001b[31m✖\u001b[39m \u001b[34mdplyr\u001b[39m::\u001b[32mlag()\u001b[39m    masks \u001b[34mstats\u001b[39m::lag()\n",
      "\u001b[36mℹ\u001b[39m Use the conflicted package (\u001b[3m\u001b[34m<http://conflicted.r-lib.org/>\u001b[39m\u001b[23m) to force all conflicts to become errors\n"
     ]
    },
    {
     "data": {
      "text/html": [
       "<table class=\"dataframe\">\n",
       "<caption>A data.frame: 1000 × 7</caption>\n",
       "<thead>\n",
       "\t<tr><th scope=col>listings</th><th scope=col>listing_fe</th><th scope=col>days</th><th scope=col>day_shock</th><th scope=col>obs</th><th scope=col>U</th><th scope=col>epsilon</th></tr>\n",
       "\t<tr><th scope=col>&lt;chr&gt;</th><th scope=col>&lt;dbl&gt;</th><th scope=col>&lt;chr&gt;</th><th scope=col>&lt;dbl&gt;</th><th scope=col>&lt;chr&gt;</th><th scope=col>&lt;dbl&gt;</th><th scope=col>&lt;dbl&gt;</th></tr>\n",
       "</thead>\n",
       "<tbody>\n",
       "\t<tr><td>001</td><td> 0.014948195</td><td>1</td><td> 0.009095622</td><td>0001</td><td>-0.1246741526</td><td>-0.100630336</td></tr>\n",
       "\t<tr><td>001</td><td> 0.014948195</td><td>2</td><td>-0.006322454</td><td>0501</td><td> 0.0987677936</td><td> 0.107393535</td></tr>\n",
       "\t<tr><td>002</td><td>-0.019737996</td><td>1</td><td> 0.009095622</td><td>0002</td><td> 0.0129913898</td><td> 0.002349016</td></tr>\n",
       "\t<tr><td>002</td><td>-0.019737996</td><td>2</td><td>-0.006322454</td><td>0502</td><td> 0.0234452738</td><td>-0.002615176</td></tr>\n",
       "\t<tr><td>003</td><td>-0.025902949</td><td>1</td><td> 0.009095622</td><td>0003</td><td>-0.0704187723</td><td>-0.087226099</td></tr>\n",
       "\t<tr><td>003</td><td>-0.025902949</td><td>2</td><td>-0.006322454</td><td>0503</td><td> 0.0240060442</td><td>-0.008219359</td></tr>\n",
       "\t<tr><td>004</td><td>-0.063815766</td><td>1</td><td> 0.009095622</td><td>0004</td><td> 0.1118403129</td><td> 0.057120169</td></tr>\n",
       "\t<tr><td>004</td><td>-0.063815766</td><td>2</td><td>-0.006322454</td><td>0504</td><td> 0.0412480287</td><td>-0.028890191</td></tr>\n",
       "\t<tr><td>005</td><td>-0.064356577</td><td>1</td><td> 0.009095622</td><td>0005</td><td>-0.0811283660</td><td>-0.136389321</td></tr>\n",
       "\t<tr><td>005</td><td>-0.064356577</td><td>2</td><td>-0.006322454</td><td>0505</td><td>-0.0508824191</td><td>-0.121561450</td></tr>\n",
       "\t<tr><td>006</td><td> 0.031914228</td><td>1</td><td> 0.009095622</td><td>0006</td><td>-0.0584589451</td><td>-0.017449095</td></tr>\n",
       "\t<tr><td>006</td><td> 0.031914228</td><td>2</td><td>-0.006322454</td><td>0506</td><td> 0.1859989201</td><td> 0.211590694</td></tr>\n",
       "\t<tr><td>007</td><td> 0.027413125</td><td>1</td><td> 0.009095622</td><td>0007</td><td>-0.0065330904</td><td> 0.029975657</td></tr>\n",
       "\t<tr><td>007</td><td> 0.027413125</td><td>2</td><td>-0.006322454</td><td>0507</td><td> 0.0113629249</td><td> 0.032453596</td></tr>\n",
       "\t<tr><td>008</td><td>-0.055010435</td><td>1</td><td> 0.009095622</td><td>0008</td><td>-0.1218053052</td><td>-0.167720118</td></tr>\n",
       "\t<tr><td>008</td><td>-0.055010435</td><td>2</td><td>-0.006322454</td><td>0508</td><td>-0.1156216346</td><td>-0.176954523</td></tr>\n",
       "\t<tr><td>009</td><td>-0.055375737</td><td>1</td><td> 0.009095622</td><td>0009</td><td>-0.0958708685</td><td>-0.142150983</td></tr>\n",
       "\t<tr><td>009</td><td>-0.055375737</td><td>2</td><td>-0.006322454</td><td>0509</td><td>-0.0317325203</td><td>-0.093430711</td></tr>\n",
       "\t<tr><td>010</td><td>-0.062414844</td><td>1</td><td> 0.009095622</td><td>0010</td><td> 0.0850351738</td><td> 0.031715952</td></tr>\n",
       "\t<tr><td>010</td><td>-0.062414844</td><td>2</td><td>-0.006322454</td><td>0510</td><td> 0.0646146433</td><td>-0.004122654</td></tr>\n",
       "\t<tr><td>011</td><td> 0.022737671</td><td>1</td><td> 0.009095622</td><td>0011</td><td> 0.1025005198</td><td> 0.134333813</td></tr>\n",
       "\t<tr><td>011</td><td> 0.022737671</td><td>2</td><td>-0.006322454</td><td>0511</td><td> 0.1423080931</td><td> 0.158723310</td></tr>\n",
       "\t<tr><td>012</td><td> 0.066628461</td><td>1</td><td> 0.009095622</td><td>0012</td><td> 0.0342487573</td><td> 0.109972841</td></tr>\n",
       "\t<tr><td>012</td><td> 0.066628461</td><td>2</td><td>-0.006322454</td><td>0512</td><td> 0.0690396415</td><td> 0.129345649</td></tr>\n",
       "\t<tr><td>013</td><td> 0.009065277</td><td>1</td><td> 0.009095622</td><td>0013</td><td>-0.0726046263</td><td>-0.054443728</td></tr>\n",
       "\t<tr><td>013</td><td> 0.009065277</td><td>2</td><td>-0.006322454</td><td>0513</td><td> 0.0268639502</td><td> 0.029606773</td></tr>\n",
       "\t<tr><td>014</td><td> 0.049097586</td><td>1</td><td> 0.009095622</td><td>0014</td><td>-0.1594866270</td><td>-0.101293418</td></tr>\n",
       "\t<tr><td>014</td><td> 0.049097586</td><td>2</td><td>-0.006322454</td><td>0514</td><td>-0.1427479932</td><td>-0.099972860</td></tr>\n",
       "\t<tr><td>015</td><td>-0.091661600</td><td>1</td><td> 0.009095622</td><td>0015</td><td> 0.0753411485</td><td>-0.007224830</td></tr>\n",
       "\t<tr><td>015</td><td>-0.091661600</td><td>2</td><td>-0.006322454</td><td>0515</td><td> 0.0008935027</td><td>-0.097090551</td></tr>\n",
       "\t<tr><td>⋮</td><td>⋮</td><td>⋮</td><td>⋮</td><td>⋮</td><td>⋮</td><td>⋮</td></tr>\n",
       "\t<tr><td>486</td><td>-0.0007231568</td><td>1</td><td> 0.009095622</td><td>0486</td><td>-0.17010474</td><td>-0.161732277</td></tr>\n",
       "\t<tr><td>486</td><td>-0.0007231568</td><td>2</td><td>-0.006322454</td><td>0986</td><td> 0.17802113</td><td> 0.170975524</td></tr>\n",
       "\t<tr><td>487</td><td> 0.0809642875</td><td>1</td><td> 0.009095622</td><td>0487</td><td>-0.02635908</td><td> 0.063700825</td></tr>\n",
       "\t<tr><td>487</td><td> 0.0809642875</td><td>2</td><td>-0.006322454</td><td>0987</td><td>-0.12564166</td><td>-0.050999824</td></tr>\n",
       "\t<tr><td>488</td><td> 0.0846430295</td><td>1</td><td> 0.009095622</td><td>0488</td><td>-0.06440856</td><td> 0.029330088</td></tr>\n",
       "\t<tr><td>488</td><td> 0.0846430295</td><td>2</td><td>-0.006322454</td><td>0988</td><td> 0.12884512</td><td> 0.207165693</td></tr>\n",
       "\t<tr><td>489</td><td> 0.0909556242</td><td>1</td><td> 0.009095622</td><td>0489</td><td> 0.06374472</td><td> 0.163795967</td></tr>\n",
       "\t<tr><td>489</td><td> 0.0909556242</td><td>2</td><td>-0.006322454</td><td>0989</td><td>-0.04220463</td><td> 0.042428539</td></tr>\n",
       "\t<tr><td>490</td><td> 0.0283206797</td><td>1</td><td> 0.009095622</td><td>0490</td><td>-0.02836882</td><td> 0.009047483</td></tr>\n",
       "\t<tr><td>490</td><td> 0.0283206797</td><td>2</td><td>-0.006322454</td><td>0990</td><td> 0.04859632</td><td> 0.070594543</td></tr>\n",
       "\t<tr><td>491</td><td>-0.0175019002</td><td>1</td><td> 0.009095622</td><td>0491</td><td> 0.07034679</td><td> 0.061940516</td></tr>\n",
       "\t<tr><td>491</td><td>-0.0175019002</td><td>2</td><td>-0.006322454</td><td>0991</td><td> 0.05584523</td><td> 0.032020878</td></tr>\n",
       "\t<tr><td>492</td><td> 0.0553902558</td><td>1</td><td> 0.009095622</td><td>0492</td><td> 0.11701864</td><td> 0.181504518</td></tr>\n",
       "\t<tr><td>492</td><td> 0.0553902558</td><td>2</td><td>-0.006322454</td><td>0992</td><td>-0.01012059</td><td> 0.038947217</td></tr>\n",
       "\t<tr><td>493</td><td>-0.0531765843</td><td>1</td><td> 0.009095622</td><td>0493</td><td> 0.10874416</td><td> 0.064663200</td></tr>\n",
       "\t<tr><td>493</td><td>-0.0531765843</td><td>2</td><td>-0.006322454</td><td>0993</td><td>-0.14632884</td><td>-0.205827873</td></tr>\n",
       "\t<tr><td>494</td><td> 0.0823714285</td><td>1</td><td> 0.009095622</td><td>0494</td><td>-0.05215314</td><td> 0.039313907</td></tr>\n",
       "\t<tr><td>494</td><td> 0.0823714285</td><td>2</td><td>-0.006322454</td><td>0994</td><td>-0.02257364</td><td> 0.053475338</td></tr>\n",
       "\t<tr><td>495</td><td>-0.0984086206</td><td>1</td><td> 0.009095622</td><td>0495</td><td>-0.01882271</td><td>-0.108135709</td></tr>\n",
       "\t<tr><td>495</td><td>-0.0984086206</td><td>2</td><td>-0.006322454</td><td>0995</td><td> 0.07037427</td><td>-0.034356804</td></tr>\n",
       "\t<tr><td>496</td><td>-0.0782977261</td><td>1</td><td> 0.009095622</td><td>0496</td><td> 0.03109826</td><td>-0.038103847</td></tr>\n",
       "\t<tr><td>496</td><td>-0.0782977261</td><td>2</td><td>-0.006322454</td><td>0996</td><td> 0.01509377</td><td>-0.069526408</td></tr>\n",
       "\t<tr><td>497</td><td> 0.0289969520</td><td>1</td><td> 0.009095622</td><td>0497</td><td>-0.06642334</td><td>-0.028330764</td></tr>\n",
       "\t<tr><td>497</td><td> 0.0289969520</td><td>2</td><td>-0.006322454</td><td>0997</td><td>-0.13373544</td><td>-0.111060938</td></tr>\n",
       "\t<tr><td>498</td><td>-0.0672078017</td><td>1</td><td> 0.009095622</td><td>0498</td><td> 0.17680705</td><td> 0.118694871</td></tr>\n",
       "\t<tr><td>498</td><td>-0.0672078017</td><td>2</td><td>-0.006322454</td><td>0998</td><td> 0.18589568</td><td> 0.112365421</td></tr>\n",
       "\t<tr><td>499</td><td> 0.0404758319</td><td>1</td><td> 0.009095622</td><td>0499</td><td>-0.07927507</td><td>-0.029703615</td></tr>\n",
       "\t<tr><td>499</td><td> 0.0404758319</td><td>2</td><td>-0.006322454</td><td>0999</td><td> 0.01463189</td><td> 0.048785267</td></tr>\n",
       "\t<tr><td>500</td><td> 0.0686217226</td><td>1</td><td> 0.009095622</td><td>0500</td><td>-0.10495986</td><td>-0.027242513</td></tr>\n",
       "\t<tr><td>500</td><td> 0.0686217226</td><td>2</td><td>-0.006322454</td><td>1000</td><td> 0.09118304</td><td> 0.153482305</td></tr>\n",
       "</tbody>\n",
       "</table>\n"
      ],
      "text/latex": [
       "A data.frame: 1000 × 7\n",
       "\\begin{tabular}{lllllll}\n",
       " listings & listing\\_fe & days & day\\_shock & obs & U & epsilon\\\\\n",
       " <chr> & <dbl> & <chr> & <dbl> & <chr> & <dbl> & <dbl>\\\\\n",
       "\\hline\n",
       "\t 001 &  0.014948195 & 1 &  0.009095622 & 0001 & -0.1246741526 & -0.100630336\\\\\n",
       "\t 001 &  0.014948195 & 2 & -0.006322454 & 0501 &  0.0987677936 &  0.107393535\\\\\n",
       "\t 002 & -0.019737996 & 1 &  0.009095622 & 0002 &  0.0129913898 &  0.002349016\\\\\n",
       "\t 002 & -0.019737996 & 2 & -0.006322454 & 0502 &  0.0234452738 & -0.002615176\\\\\n",
       "\t 003 & -0.025902949 & 1 &  0.009095622 & 0003 & -0.0704187723 & -0.087226099\\\\\n",
       "\t 003 & -0.025902949 & 2 & -0.006322454 & 0503 &  0.0240060442 & -0.008219359\\\\\n",
       "\t 004 & -0.063815766 & 1 &  0.009095622 & 0004 &  0.1118403129 &  0.057120169\\\\\n",
       "\t 004 & -0.063815766 & 2 & -0.006322454 & 0504 &  0.0412480287 & -0.028890191\\\\\n",
       "\t 005 & -0.064356577 & 1 &  0.009095622 & 0005 & -0.0811283660 & -0.136389321\\\\\n",
       "\t 005 & -0.064356577 & 2 & -0.006322454 & 0505 & -0.0508824191 & -0.121561450\\\\\n",
       "\t 006 &  0.031914228 & 1 &  0.009095622 & 0006 & -0.0584589451 & -0.017449095\\\\\n",
       "\t 006 &  0.031914228 & 2 & -0.006322454 & 0506 &  0.1859989201 &  0.211590694\\\\\n",
       "\t 007 &  0.027413125 & 1 &  0.009095622 & 0007 & -0.0065330904 &  0.029975657\\\\\n",
       "\t 007 &  0.027413125 & 2 & -0.006322454 & 0507 &  0.0113629249 &  0.032453596\\\\\n",
       "\t 008 & -0.055010435 & 1 &  0.009095622 & 0008 & -0.1218053052 & -0.167720118\\\\\n",
       "\t 008 & -0.055010435 & 2 & -0.006322454 & 0508 & -0.1156216346 & -0.176954523\\\\\n",
       "\t 009 & -0.055375737 & 1 &  0.009095622 & 0009 & -0.0958708685 & -0.142150983\\\\\n",
       "\t 009 & -0.055375737 & 2 & -0.006322454 & 0509 & -0.0317325203 & -0.093430711\\\\\n",
       "\t 010 & -0.062414844 & 1 &  0.009095622 & 0010 &  0.0850351738 &  0.031715952\\\\\n",
       "\t 010 & -0.062414844 & 2 & -0.006322454 & 0510 &  0.0646146433 & -0.004122654\\\\\n",
       "\t 011 &  0.022737671 & 1 &  0.009095622 & 0011 &  0.1025005198 &  0.134333813\\\\\n",
       "\t 011 &  0.022737671 & 2 & -0.006322454 & 0511 &  0.1423080931 &  0.158723310\\\\\n",
       "\t 012 &  0.066628461 & 1 &  0.009095622 & 0012 &  0.0342487573 &  0.109972841\\\\\n",
       "\t 012 &  0.066628461 & 2 & -0.006322454 & 0512 &  0.0690396415 &  0.129345649\\\\\n",
       "\t 013 &  0.009065277 & 1 &  0.009095622 & 0013 & -0.0726046263 & -0.054443728\\\\\n",
       "\t 013 &  0.009065277 & 2 & -0.006322454 & 0513 &  0.0268639502 &  0.029606773\\\\\n",
       "\t 014 &  0.049097586 & 1 &  0.009095622 & 0014 & -0.1594866270 & -0.101293418\\\\\n",
       "\t 014 &  0.049097586 & 2 & -0.006322454 & 0514 & -0.1427479932 & -0.099972860\\\\\n",
       "\t 015 & -0.091661600 & 1 &  0.009095622 & 0015 &  0.0753411485 & -0.007224830\\\\\n",
       "\t 015 & -0.091661600 & 2 & -0.006322454 & 0515 &  0.0008935027 & -0.097090551\\\\\n",
       "\t ⋮ & ⋮ & ⋮ & ⋮ & ⋮ & ⋮ & ⋮\\\\\n",
       "\t 486 & -0.0007231568 & 1 &  0.009095622 & 0486 & -0.17010474 & -0.161732277\\\\\n",
       "\t 486 & -0.0007231568 & 2 & -0.006322454 & 0986 &  0.17802113 &  0.170975524\\\\\n",
       "\t 487 &  0.0809642875 & 1 &  0.009095622 & 0487 & -0.02635908 &  0.063700825\\\\\n",
       "\t 487 &  0.0809642875 & 2 & -0.006322454 & 0987 & -0.12564166 & -0.050999824\\\\\n",
       "\t 488 &  0.0846430295 & 1 &  0.009095622 & 0488 & -0.06440856 &  0.029330088\\\\\n",
       "\t 488 &  0.0846430295 & 2 & -0.006322454 & 0988 &  0.12884512 &  0.207165693\\\\\n",
       "\t 489 &  0.0909556242 & 1 &  0.009095622 & 0489 &  0.06374472 &  0.163795967\\\\\n",
       "\t 489 &  0.0909556242 & 2 & -0.006322454 & 0989 & -0.04220463 &  0.042428539\\\\\n",
       "\t 490 &  0.0283206797 & 1 &  0.009095622 & 0490 & -0.02836882 &  0.009047483\\\\\n",
       "\t 490 &  0.0283206797 & 2 & -0.006322454 & 0990 &  0.04859632 &  0.070594543\\\\\n",
       "\t 491 & -0.0175019002 & 1 &  0.009095622 & 0491 &  0.07034679 &  0.061940516\\\\\n",
       "\t 491 & -0.0175019002 & 2 & -0.006322454 & 0991 &  0.05584523 &  0.032020878\\\\\n",
       "\t 492 &  0.0553902558 & 1 &  0.009095622 & 0492 &  0.11701864 &  0.181504518\\\\\n",
       "\t 492 &  0.0553902558 & 2 & -0.006322454 & 0992 & -0.01012059 &  0.038947217\\\\\n",
       "\t 493 & -0.0531765843 & 1 &  0.009095622 & 0493 &  0.10874416 &  0.064663200\\\\\n",
       "\t 493 & -0.0531765843 & 2 & -0.006322454 & 0993 & -0.14632884 & -0.205827873\\\\\n",
       "\t 494 &  0.0823714285 & 1 &  0.009095622 & 0494 & -0.05215314 &  0.039313907\\\\\n",
       "\t 494 &  0.0823714285 & 2 & -0.006322454 & 0994 & -0.02257364 &  0.053475338\\\\\n",
       "\t 495 & -0.0984086206 & 1 &  0.009095622 & 0495 & -0.01882271 & -0.108135709\\\\\n",
       "\t 495 & -0.0984086206 & 2 & -0.006322454 & 0995 &  0.07037427 & -0.034356804\\\\\n",
       "\t 496 & -0.0782977261 & 1 &  0.009095622 & 0496 &  0.03109826 & -0.038103847\\\\\n",
       "\t 496 & -0.0782977261 & 2 & -0.006322454 & 0996 &  0.01509377 & -0.069526408\\\\\n",
       "\t 497 &  0.0289969520 & 1 &  0.009095622 & 0497 & -0.06642334 & -0.028330764\\\\\n",
       "\t 497 &  0.0289969520 & 2 & -0.006322454 & 0997 & -0.13373544 & -0.111060938\\\\\n",
       "\t 498 & -0.0672078017 & 1 &  0.009095622 & 0498 &  0.17680705 &  0.118694871\\\\\n",
       "\t 498 & -0.0672078017 & 2 & -0.006322454 & 0998 &  0.18589568 &  0.112365421\\\\\n",
       "\t 499 &  0.0404758319 & 1 &  0.009095622 & 0499 & -0.07927507 & -0.029703615\\\\\n",
       "\t 499 &  0.0404758319 & 2 & -0.006322454 & 0999 &  0.01463189 &  0.048785267\\\\\n",
       "\t 500 &  0.0686217226 & 1 &  0.009095622 & 0500 & -0.10495986 & -0.027242513\\\\\n",
       "\t 500 &  0.0686217226 & 2 & -0.006322454 & 1000 &  0.09118304 &  0.153482305\\\\\n",
       "\\end{tabular}\n"
      ],
      "text/markdown": [
       "\n",
       "A data.frame: 1000 × 7\n",
       "\n",
       "| listings &lt;chr&gt; | listing_fe &lt;dbl&gt; | days &lt;chr&gt; | day_shock &lt;dbl&gt; | obs &lt;chr&gt; | U &lt;dbl&gt; | epsilon &lt;dbl&gt; |\n",
       "|---|---|---|---|---|---|---|\n",
       "| 001 |  0.014948195 | 1 |  0.009095622 | 0001 | -0.1246741526 | -0.100630336 |\n",
       "| 001 |  0.014948195 | 2 | -0.006322454 | 0501 |  0.0987677936 |  0.107393535 |\n",
       "| 002 | -0.019737996 | 1 |  0.009095622 | 0002 |  0.0129913898 |  0.002349016 |\n",
       "| 002 | -0.019737996 | 2 | -0.006322454 | 0502 |  0.0234452738 | -0.002615176 |\n",
       "| 003 | -0.025902949 | 1 |  0.009095622 | 0003 | -0.0704187723 | -0.087226099 |\n",
       "| 003 | -0.025902949 | 2 | -0.006322454 | 0503 |  0.0240060442 | -0.008219359 |\n",
       "| 004 | -0.063815766 | 1 |  0.009095622 | 0004 |  0.1118403129 |  0.057120169 |\n",
       "| 004 | -0.063815766 | 2 | -0.006322454 | 0504 |  0.0412480287 | -0.028890191 |\n",
       "| 005 | -0.064356577 | 1 |  0.009095622 | 0005 | -0.0811283660 | -0.136389321 |\n",
       "| 005 | -0.064356577 | 2 | -0.006322454 | 0505 | -0.0508824191 | -0.121561450 |\n",
       "| 006 |  0.031914228 | 1 |  0.009095622 | 0006 | -0.0584589451 | -0.017449095 |\n",
       "| 006 |  0.031914228 | 2 | -0.006322454 | 0506 |  0.1859989201 |  0.211590694 |\n",
       "| 007 |  0.027413125 | 1 |  0.009095622 | 0007 | -0.0065330904 |  0.029975657 |\n",
       "| 007 |  0.027413125 | 2 | -0.006322454 | 0507 |  0.0113629249 |  0.032453596 |\n",
       "| 008 | -0.055010435 | 1 |  0.009095622 | 0008 | -0.1218053052 | -0.167720118 |\n",
       "| 008 | -0.055010435 | 2 | -0.006322454 | 0508 | -0.1156216346 | -0.176954523 |\n",
       "| 009 | -0.055375737 | 1 |  0.009095622 | 0009 | -0.0958708685 | -0.142150983 |\n",
       "| 009 | -0.055375737 | 2 | -0.006322454 | 0509 | -0.0317325203 | -0.093430711 |\n",
       "| 010 | -0.062414844 | 1 |  0.009095622 | 0010 |  0.0850351738 |  0.031715952 |\n",
       "| 010 | -0.062414844 | 2 | -0.006322454 | 0510 |  0.0646146433 | -0.004122654 |\n",
       "| 011 |  0.022737671 | 1 |  0.009095622 | 0011 |  0.1025005198 |  0.134333813 |\n",
       "| 011 |  0.022737671 | 2 | -0.006322454 | 0511 |  0.1423080931 |  0.158723310 |\n",
       "| 012 |  0.066628461 | 1 |  0.009095622 | 0012 |  0.0342487573 |  0.109972841 |\n",
       "| 012 |  0.066628461 | 2 | -0.006322454 | 0512 |  0.0690396415 |  0.129345649 |\n",
       "| 013 |  0.009065277 | 1 |  0.009095622 | 0013 | -0.0726046263 | -0.054443728 |\n",
       "| 013 |  0.009065277 | 2 | -0.006322454 | 0513 |  0.0268639502 |  0.029606773 |\n",
       "| 014 |  0.049097586 | 1 |  0.009095622 | 0014 | -0.1594866270 | -0.101293418 |\n",
       "| 014 |  0.049097586 | 2 | -0.006322454 | 0514 | -0.1427479932 | -0.099972860 |\n",
       "| 015 | -0.091661600 | 1 |  0.009095622 | 0015 |  0.0753411485 | -0.007224830 |\n",
       "| 015 | -0.091661600 | 2 | -0.006322454 | 0515 |  0.0008935027 | -0.097090551 |\n",
       "| ⋮ | ⋮ | ⋮ | ⋮ | ⋮ | ⋮ | ⋮ |\n",
       "| 486 | -0.0007231568 | 1 |  0.009095622 | 0486 | -0.17010474 | -0.161732277 |\n",
       "| 486 | -0.0007231568 | 2 | -0.006322454 | 0986 |  0.17802113 |  0.170975524 |\n",
       "| 487 |  0.0809642875 | 1 |  0.009095622 | 0487 | -0.02635908 |  0.063700825 |\n",
       "| 487 |  0.0809642875 | 2 | -0.006322454 | 0987 | -0.12564166 | -0.050999824 |\n",
       "| 488 |  0.0846430295 | 1 |  0.009095622 | 0488 | -0.06440856 |  0.029330088 |\n",
       "| 488 |  0.0846430295 | 2 | -0.006322454 | 0988 |  0.12884512 |  0.207165693 |\n",
       "| 489 |  0.0909556242 | 1 |  0.009095622 | 0489 |  0.06374472 |  0.163795967 |\n",
       "| 489 |  0.0909556242 | 2 | -0.006322454 | 0989 | -0.04220463 |  0.042428539 |\n",
       "| 490 |  0.0283206797 | 1 |  0.009095622 | 0490 | -0.02836882 |  0.009047483 |\n",
       "| 490 |  0.0283206797 | 2 | -0.006322454 | 0990 |  0.04859632 |  0.070594543 |\n",
       "| 491 | -0.0175019002 | 1 |  0.009095622 | 0491 |  0.07034679 |  0.061940516 |\n",
       "| 491 | -0.0175019002 | 2 | -0.006322454 | 0991 |  0.05584523 |  0.032020878 |\n",
       "| 492 |  0.0553902558 | 1 |  0.009095622 | 0492 |  0.11701864 |  0.181504518 |\n",
       "| 492 |  0.0553902558 | 2 | -0.006322454 | 0992 | -0.01012059 |  0.038947217 |\n",
       "| 493 | -0.0531765843 | 1 |  0.009095622 | 0493 |  0.10874416 |  0.064663200 |\n",
       "| 493 | -0.0531765843 | 2 | -0.006322454 | 0993 | -0.14632884 | -0.205827873 |\n",
       "| 494 |  0.0823714285 | 1 |  0.009095622 | 0494 | -0.05215314 |  0.039313907 |\n",
       "| 494 |  0.0823714285 | 2 | -0.006322454 | 0994 | -0.02257364 |  0.053475338 |\n",
       "| 495 | -0.0984086206 | 1 |  0.009095622 | 0495 | -0.01882271 | -0.108135709 |\n",
       "| 495 | -0.0984086206 | 2 | -0.006322454 | 0995 |  0.07037427 | -0.034356804 |\n",
       "| 496 | -0.0782977261 | 1 |  0.009095622 | 0496 |  0.03109826 | -0.038103847 |\n",
       "| 496 | -0.0782977261 | 2 | -0.006322454 | 0996 |  0.01509377 | -0.069526408 |\n",
       "| 497 |  0.0289969520 | 1 |  0.009095622 | 0497 | -0.06642334 | -0.028330764 |\n",
       "| 497 |  0.0289969520 | 2 | -0.006322454 | 0997 | -0.13373544 | -0.111060938 |\n",
       "| 498 | -0.0672078017 | 1 |  0.009095622 | 0498 |  0.17680705 |  0.118694871 |\n",
       "| 498 | -0.0672078017 | 2 | -0.006322454 | 0998 |  0.18589568 |  0.112365421 |\n",
       "| 499 |  0.0404758319 | 1 |  0.009095622 | 0499 | -0.07927507 | -0.029703615 |\n",
       "| 499 |  0.0404758319 | 2 | -0.006322454 | 0999 |  0.01463189 |  0.048785267 |\n",
       "| 500 |  0.0686217226 | 1 |  0.009095622 | 0500 | -0.10495986 | -0.027242513 |\n",
       "| 500 |  0.0686217226 | 2 | -0.006322454 | 1000 |  0.09118304 |  0.153482305 |\n",
       "\n"
      ],
      "text/plain": [
       "     listings listing_fe    days day_shock    obs  U             epsilon     \n",
       "1    001       0.014948195  1     0.009095622 0001 -0.1246741526 -0.100630336\n",
       "2    001       0.014948195  2    -0.006322454 0501  0.0987677936  0.107393535\n",
       "3    002      -0.019737996  1     0.009095622 0002  0.0129913898  0.002349016\n",
       "4    002      -0.019737996  2    -0.006322454 0502  0.0234452738 -0.002615176\n",
       "5    003      -0.025902949  1     0.009095622 0003 -0.0704187723 -0.087226099\n",
       "6    003      -0.025902949  2    -0.006322454 0503  0.0240060442 -0.008219359\n",
       "7    004      -0.063815766  1     0.009095622 0004  0.1118403129  0.057120169\n",
       "8    004      -0.063815766  2    -0.006322454 0504  0.0412480287 -0.028890191\n",
       "9    005      -0.064356577  1     0.009095622 0005 -0.0811283660 -0.136389321\n",
       "10   005      -0.064356577  2    -0.006322454 0505 -0.0508824191 -0.121561450\n",
       "11   006       0.031914228  1     0.009095622 0006 -0.0584589451 -0.017449095\n",
       "12   006       0.031914228  2    -0.006322454 0506  0.1859989201  0.211590694\n",
       "13   007       0.027413125  1     0.009095622 0007 -0.0065330904  0.029975657\n",
       "14   007       0.027413125  2    -0.006322454 0507  0.0113629249  0.032453596\n",
       "15   008      -0.055010435  1     0.009095622 0008 -0.1218053052 -0.167720118\n",
       "16   008      -0.055010435  2    -0.006322454 0508 -0.1156216346 -0.176954523\n",
       "17   009      -0.055375737  1     0.009095622 0009 -0.0958708685 -0.142150983\n",
       "18   009      -0.055375737  2    -0.006322454 0509 -0.0317325203 -0.093430711\n",
       "19   010      -0.062414844  1     0.009095622 0010  0.0850351738  0.031715952\n",
       "20   010      -0.062414844  2    -0.006322454 0510  0.0646146433 -0.004122654\n",
       "21   011       0.022737671  1     0.009095622 0011  0.1025005198  0.134333813\n",
       "22   011       0.022737671  2    -0.006322454 0511  0.1423080931  0.158723310\n",
       "23   012       0.066628461  1     0.009095622 0012  0.0342487573  0.109972841\n",
       "24   012       0.066628461  2    -0.006322454 0512  0.0690396415  0.129345649\n",
       "25   013       0.009065277  1     0.009095622 0013 -0.0726046263 -0.054443728\n",
       "26   013       0.009065277  2    -0.006322454 0513  0.0268639502  0.029606773\n",
       "27   014       0.049097586  1     0.009095622 0014 -0.1594866270 -0.101293418\n",
       "28   014       0.049097586  2    -0.006322454 0514 -0.1427479932 -0.099972860\n",
       "29   015      -0.091661600  1     0.009095622 0015  0.0753411485 -0.007224830\n",
       "30   015      -0.091661600  2    -0.006322454 0515  0.0008935027 -0.097090551\n",
       "⋮    ⋮        ⋮             ⋮    ⋮            ⋮    ⋮             ⋮           \n",
       "971  486      -0.0007231568 1     0.009095622 0486 -0.17010474   -0.161732277\n",
       "972  486      -0.0007231568 2    -0.006322454 0986  0.17802113    0.170975524\n",
       "973  487       0.0809642875 1     0.009095622 0487 -0.02635908    0.063700825\n",
       "974  487       0.0809642875 2    -0.006322454 0987 -0.12564166   -0.050999824\n",
       "975  488       0.0846430295 1     0.009095622 0488 -0.06440856    0.029330088\n",
       "976  488       0.0846430295 2    -0.006322454 0988  0.12884512    0.207165693\n",
       "977  489       0.0909556242 1     0.009095622 0489  0.06374472    0.163795967\n",
       "978  489       0.0909556242 2    -0.006322454 0989 -0.04220463    0.042428539\n",
       "979  490       0.0283206797 1     0.009095622 0490 -0.02836882    0.009047483\n",
       "980  490       0.0283206797 2    -0.006322454 0990  0.04859632    0.070594543\n",
       "981  491      -0.0175019002 1     0.009095622 0491  0.07034679    0.061940516\n",
       "982  491      -0.0175019002 2    -0.006322454 0991  0.05584523    0.032020878\n",
       "983  492       0.0553902558 1     0.009095622 0492  0.11701864    0.181504518\n",
       "984  492       0.0553902558 2    -0.006322454 0992 -0.01012059    0.038947217\n",
       "985  493      -0.0531765843 1     0.009095622 0493  0.10874416    0.064663200\n",
       "986  493      -0.0531765843 2    -0.006322454 0993 -0.14632884   -0.205827873\n",
       "987  494       0.0823714285 1     0.009095622 0494 -0.05215314    0.039313907\n",
       "988  494       0.0823714285 2    -0.006322454 0994 -0.02257364    0.053475338\n",
       "989  495      -0.0984086206 1     0.009095622 0495 -0.01882271   -0.108135709\n",
       "990  495      -0.0984086206 2    -0.006322454 0995  0.07037427   -0.034356804\n",
       "991  496      -0.0782977261 1     0.009095622 0496  0.03109826   -0.038103847\n",
       "992  496      -0.0782977261 2    -0.006322454 0996  0.01509377   -0.069526408\n",
       "993  497       0.0289969520 1     0.009095622 0497 -0.06642334   -0.028330764\n",
       "994  497       0.0289969520 2    -0.006322454 0997 -0.13373544   -0.111060938\n",
       "995  498      -0.0672078017 1     0.009095622 0498  0.17680705    0.118694871\n",
       "996  498      -0.0672078017 2    -0.006322454 0998  0.18589568    0.112365421\n",
       "997  499       0.0404758319 1     0.009095622 0499 -0.07927507   -0.029703615\n",
       "998  499       0.0404758319 2    -0.006322454 0999  0.01463189    0.048785267\n",
       "999  500       0.0686217226 1     0.009095622 0500 -0.10495986   -0.027242513\n",
       "1000 500       0.0686217226 2    -0.006322454 1000  0.09118304    0.153482305"
      ]
     },
     "metadata": {},
     "output_type": "display_data"
    }
   ],
   "source": [
    "panels <- fabricate(\n",
    "  listings = add_level(N = 500, listing_fe = runif(N, -.1, .1)),\n",
    "  days = add_level(N = 2, day_shock = runif(N, -.05, .05), nest = FALSE),\n",
    "  obs = cross_levels(\n",
    "    by = join_using(listings, days),\n",
    "    U =rnorm(N, 0, .1),\n",
    "    epsilon = listing_fe + day_shock + U\n",
    "  )\n",
    "  \n",
    "  \n",
    ")\n",
    "\n",
    "require(tidyverse)\n",
    "panels  %>% arrange(listings)"
   ]
  },
  {
   "cell_type": "markdown",
   "id": "7293ed3a",
   "metadata": {},
   "source": [
    "<div >\n",
    "    <img src = \"figures/christensen2.png\" style=\"height:100px;\"/>\n",
    "</div>"
   ]
  },
  {
   "cell_type": "code",
   "execution_count": 29,
   "id": "f5f2c6f3",
   "metadata": {},
   "outputs": [
    {
     "data": {
      "text/html": [
       "<table class=\"dataframe\">\n",
       "<caption>A data.frame: 20 × 9</caption>\n",
       "<thead>\n",
       "\t<tr><th></th><th scope=col>listings</th><th scope=col>listing_fe</th><th scope=col>days</th><th scope=col>day_shock</th><th scope=col>obs</th><th scope=col>U</th><th scope=col>epsilon</th><th scope=col>Y_Z_0</th><th scope=col>Y_Z_1</th></tr>\n",
       "\t<tr><th></th><th scope=col>&lt;chr&gt;</th><th scope=col>&lt;dbl&gt;</th><th scope=col>&lt;chr&gt;</th><th scope=col>&lt;dbl&gt;</th><th scope=col>&lt;chr&gt;</th><th scope=col>&lt;dbl&gt;</th><th scope=col>&lt;dbl&gt;</th><th scope=col>&lt;int&gt;</th><th scope=col>&lt;int&gt;</th></tr>\n",
       "</thead>\n",
       "<tbody>\n",
       "\t<tr><th scope=row>1</th><td>001</td><td> 0.01494819</td><td>1</td><td> 0.009095622</td><td>0001</td><td>-0.12467415</td><td>-0.100630336</td><td>0</td><td>0</td></tr>\n",
       "\t<tr><th scope=row>2</th><td>001</td><td> 0.01494819</td><td>2</td><td>-0.006322454</td><td>0501</td><td> 0.09876779</td><td> 0.107393535</td><td>0</td><td>1</td></tr>\n",
       "\t<tr><th scope=row>3</th><td>002</td><td>-0.01973800</td><td>1</td><td> 0.009095622</td><td>0002</td><td> 0.01299139</td><td> 0.002349016</td><td>1</td><td>1</td></tr>\n",
       "\t<tr><th scope=row>4</th><td>002</td><td>-0.01973800</td><td>2</td><td>-0.006322454</td><td>0502</td><td> 0.02344527</td><td>-0.002615176</td><td>1</td><td>0</td></tr>\n",
       "\t<tr><th scope=row>5</th><td>003</td><td>-0.02590295</td><td>1</td><td> 0.009095622</td><td>0003</td><td>-0.07041877</td><td>-0.087226099</td><td>1</td><td>1</td></tr>\n",
       "\t<tr><th scope=row>6</th><td>003</td><td>-0.02590295</td><td>2</td><td>-0.006322454</td><td>0503</td><td> 0.02400604</td><td>-0.008219359</td><td>0</td><td>0</td></tr>\n",
       "\t<tr><th scope=row>7</th><td>004</td><td>-0.06381577</td><td>1</td><td> 0.009095622</td><td>0004</td><td> 0.11184031</td><td> 0.057120169</td><td>1</td><td>1</td></tr>\n",
       "\t<tr><th scope=row>8</th><td>004</td><td>-0.06381577</td><td>2</td><td>-0.006322454</td><td>0504</td><td> 0.04124803</td><td>-0.028890191</td><td>1</td><td>1</td></tr>\n",
       "\t<tr><th scope=row>9</th><td>005</td><td>-0.06435658</td><td>1</td><td> 0.009095622</td><td>0005</td><td>-0.08112837</td><td>-0.136389321</td><td>1</td><td>0</td></tr>\n",
       "\t<tr><th scope=row>10</th><td>005</td><td>-0.06435658</td><td>2</td><td>-0.006322454</td><td>0505</td><td>-0.05088242</td><td>-0.121561450</td><td>0</td><td>1</td></tr>\n",
       "\t<tr><th scope=row>11</th><td>006</td><td> 0.03191423</td><td>1</td><td> 0.009095622</td><td>0006</td><td>-0.05845895</td><td>-0.017449095</td><td>0</td><td>0</td></tr>\n",
       "\t<tr><th scope=row>12</th><td>006</td><td> 0.03191423</td><td>2</td><td>-0.006322454</td><td>0506</td><td> 0.18599892</td><td> 0.211590694</td><td>1</td><td>1</td></tr>\n",
       "\t<tr><th scope=row>13</th><td>007</td><td> 0.02741312</td><td>1</td><td> 0.009095622</td><td>0007</td><td>-0.00653309</td><td> 0.029975657</td><td>1</td><td>0</td></tr>\n",
       "\t<tr><th scope=row>14</th><td>007</td><td> 0.02741312</td><td>2</td><td>-0.006322454</td><td>0507</td><td> 0.01136292</td><td> 0.032453596</td><td>1</td><td>0</td></tr>\n",
       "\t<tr><th scope=row>15</th><td>008</td><td>-0.05501043</td><td>1</td><td> 0.009095622</td><td>0008</td><td>-0.12180531</td><td>-0.167720118</td><td>0</td><td>0</td></tr>\n",
       "\t<tr><th scope=row>16</th><td>008</td><td>-0.05501043</td><td>2</td><td>-0.006322454</td><td>0508</td><td>-0.11562163</td><td>-0.176954523</td><td>1</td><td>1</td></tr>\n",
       "\t<tr><th scope=row>17</th><td>009</td><td>-0.05537574</td><td>1</td><td> 0.009095622</td><td>0009</td><td>-0.09587087</td><td>-0.142150983</td><td>0</td><td>0</td></tr>\n",
       "\t<tr><th scope=row>18</th><td>009</td><td>-0.05537574</td><td>2</td><td>-0.006322454</td><td>0509</td><td>-0.03173252</td><td>-0.093430711</td><td>0</td><td>0</td></tr>\n",
       "\t<tr><th scope=row>19</th><td>010</td><td>-0.06241484</td><td>1</td><td> 0.009095622</td><td>0010</td><td> 0.08503517</td><td> 0.031715952</td><td>1</td><td>0</td></tr>\n",
       "\t<tr><th scope=row>20</th><td>010</td><td>-0.06241484</td><td>2</td><td>-0.006322454</td><td>0510</td><td> 0.06461464</td><td>-0.004122654</td><td>1</td><td>0</td></tr>\n",
       "</tbody>\n",
       "</table>\n"
      ],
      "text/latex": [
       "A data.frame: 20 × 9\n",
       "\\begin{tabular}{r|lllllllll}\n",
       "  & listings & listing\\_fe & days & day\\_shock & obs & U & epsilon & Y\\_Z\\_0 & Y\\_Z\\_1\\\\\n",
       "  & <chr> & <dbl> & <chr> & <dbl> & <chr> & <dbl> & <dbl> & <int> & <int>\\\\\n",
       "\\hline\n",
       "\t1 & 001 &  0.01494819 & 1 &  0.009095622 & 0001 & -0.12467415 & -0.100630336 & 0 & 0\\\\\n",
       "\t2 & 001 &  0.01494819 & 2 & -0.006322454 & 0501 &  0.09876779 &  0.107393535 & 0 & 1\\\\\n",
       "\t3 & 002 & -0.01973800 & 1 &  0.009095622 & 0002 &  0.01299139 &  0.002349016 & 1 & 1\\\\\n",
       "\t4 & 002 & -0.01973800 & 2 & -0.006322454 & 0502 &  0.02344527 & -0.002615176 & 1 & 0\\\\\n",
       "\t5 & 003 & -0.02590295 & 1 &  0.009095622 & 0003 & -0.07041877 & -0.087226099 & 1 & 1\\\\\n",
       "\t6 & 003 & -0.02590295 & 2 & -0.006322454 & 0503 &  0.02400604 & -0.008219359 & 0 & 0\\\\\n",
       "\t7 & 004 & -0.06381577 & 1 &  0.009095622 & 0004 &  0.11184031 &  0.057120169 & 1 & 1\\\\\n",
       "\t8 & 004 & -0.06381577 & 2 & -0.006322454 & 0504 &  0.04124803 & -0.028890191 & 1 & 1\\\\\n",
       "\t9 & 005 & -0.06435658 & 1 &  0.009095622 & 0005 & -0.08112837 & -0.136389321 & 1 & 0\\\\\n",
       "\t10 & 005 & -0.06435658 & 2 & -0.006322454 & 0505 & -0.05088242 & -0.121561450 & 0 & 1\\\\\n",
       "\t11 & 006 &  0.03191423 & 1 &  0.009095622 & 0006 & -0.05845895 & -0.017449095 & 0 & 0\\\\\n",
       "\t12 & 006 &  0.03191423 & 2 & -0.006322454 & 0506 &  0.18599892 &  0.211590694 & 1 & 1\\\\\n",
       "\t13 & 007 &  0.02741312 & 1 &  0.009095622 & 0007 & -0.00653309 &  0.029975657 & 1 & 0\\\\\n",
       "\t14 & 007 &  0.02741312 & 2 & -0.006322454 & 0507 &  0.01136292 &  0.032453596 & 1 & 0\\\\\n",
       "\t15 & 008 & -0.05501043 & 1 &  0.009095622 & 0008 & -0.12180531 & -0.167720118 & 0 & 0\\\\\n",
       "\t16 & 008 & -0.05501043 & 2 & -0.006322454 & 0508 & -0.11562163 & -0.176954523 & 1 & 1\\\\\n",
       "\t17 & 009 & -0.05537574 & 1 &  0.009095622 & 0009 & -0.09587087 & -0.142150983 & 0 & 0\\\\\n",
       "\t18 & 009 & -0.05537574 & 2 & -0.006322454 & 0509 & -0.03173252 & -0.093430711 & 0 & 0\\\\\n",
       "\t19 & 010 & -0.06241484 & 1 &  0.009095622 & 0010 &  0.08503517 &  0.031715952 & 1 & 0\\\\\n",
       "\t20 & 010 & -0.06241484 & 2 & -0.006322454 & 0510 &  0.06461464 & -0.004122654 & 1 & 0\\\\\n",
       "\\end{tabular}\n"
      ],
      "text/markdown": [
       "\n",
       "A data.frame: 20 × 9\n",
       "\n",
       "| <!--/--> | listings &lt;chr&gt; | listing_fe &lt;dbl&gt; | days &lt;chr&gt; | day_shock &lt;dbl&gt; | obs &lt;chr&gt; | U &lt;dbl&gt; | epsilon &lt;dbl&gt; | Y_Z_0 &lt;int&gt; | Y_Z_1 &lt;int&gt; |\n",
       "|---|---|---|---|---|---|---|---|---|---|\n",
       "| 1 | 001 |  0.01494819 | 1 |  0.009095622 | 0001 | -0.12467415 | -0.100630336 | 0 | 0 |\n",
       "| 2 | 001 |  0.01494819 | 2 | -0.006322454 | 0501 |  0.09876779 |  0.107393535 | 0 | 1 |\n",
       "| 3 | 002 | -0.01973800 | 1 |  0.009095622 | 0002 |  0.01299139 |  0.002349016 | 1 | 1 |\n",
       "| 4 | 002 | -0.01973800 | 2 | -0.006322454 | 0502 |  0.02344527 | -0.002615176 | 1 | 0 |\n",
       "| 5 | 003 | -0.02590295 | 1 |  0.009095622 | 0003 | -0.07041877 | -0.087226099 | 1 | 1 |\n",
       "| 6 | 003 | -0.02590295 | 2 | -0.006322454 | 0503 |  0.02400604 | -0.008219359 | 0 | 0 |\n",
       "| 7 | 004 | -0.06381577 | 1 |  0.009095622 | 0004 |  0.11184031 |  0.057120169 | 1 | 1 |\n",
       "| 8 | 004 | -0.06381577 | 2 | -0.006322454 | 0504 |  0.04124803 | -0.028890191 | 1 | 1 |\n",
       "| 9 | 005 | -0.06435658 | 1 |  0.009095622 | 0005 | -0.08112837 | -0.136389321 | 1 | 0 |\n",
       "| 10 | 005 | -0.06435658 | 2 | -0.006322454 | 0505 | -0.05088242 | -0.121561450 | 0 | 1 |\n",
       "| 11 | 006 |  0.03191423 | 1 |  0.009095622 | 0006 | -0.05845895 | -0.017449095 | 0 | 0 |\n",
       "| 12 | 006 |  0.03191423 | 2 | -0.006322454 | 0506 |  0.18599892 |  0.211590694 | 1 | 1 |\n",
       "| 13 | 007 |  0.02741312 | 1 |  0.009095622 | 0007 | -0.00653309 |  0.029975657 | 1 | 0 |\n",
       "| 14 | 007 |  0.02741312 | 2 | -0.006322454 | 0507 |  0.01136292 |  0.032453596 | 1 | 0 |\n",
       "| 15 | 008 | -0.05501043 | 1 |  0.009095622 | 0008 | -0.12180531 | -0.167720118 | 0 | 0 |\n",
       "| 16 | 008 | -0.05501043 | 2 | -0.006322454 | 0508 | -0.11562163 | -0.176954523 | 1 | 1 |\n",
       "| 17 | 009 | -0.05537574 | 1 |  0.009095622 | 0009 | -0.09587087 | -0.142150983 | 0 | 0 |\n",
       "| 18 | 009 | -0.05537574 | 2 | -0.006322454 | 0509 | -0.03173252 | -0.093430711 | 0 | 0 |\n",
       "| 19 | 010 | -0.06241484 | 1 |  0.009095622 | 0010 |  0.08503517 |  0.031715952 | 1 | 0 |\n",
       "| 20 | 010 | -0.06241484 | 2 | -0.006322454 | 0510 |  0.06461464 | -0.004122654 | 1 | 0 |\n",
       "\n"
      ],
      "text/plain": [
       "   listings listing_fe  days day_shock    obs  U           epsilon      Y_Z_0\n",
       "1  001       0.01494819 1     0.009095622 0001 -0.12467415 -0.100630336 0    \n",
       "2  001       0.01494819 2    -0.006322454 0501  0.09876779  0.107393535 0    \n",
       "3  002      -0.01973800 1     0.009095622 0002  0.01299139  0.002349016 1    \n",
       "4  002      -0.01973800 2    -0.006322454 0502  0.02344527 -0.002615176 1    \n",
       "5  003      -0.02590295 1     0.009095622 0003 -0.07041877 -0.087226099 1    \n",
       "6  003      -0.02590295 2    -0.006322454 0503  0.02400604 -0.008219359 0    \n",
       "7  004      -0.06381577 1     0.009095622 0004  0.11184031  0.057120169 1    \n",
       "8  004      -0.06381577 2    -0.006322454 0504  0.04124803 -0.028890191 1    \n",
       "9  005      -0.06435658 1     0.009095622 0005 -0.08112837 -0.136389321 1    \n",
       "10 005      -0.06435658 2    -0.006322454 0505 -0.05088242 -0.121561450 0    \n",
       "11 006       0.03191423 1     0.009095622 0006 -0.05845895 -0.017449095 0    \n",
       "12 006       0.03191423 2    -0.006322454 0506  0.18599892  0.211590694 1    \n",
       "13 007       0.02741312 1     0.009095622 0007 -0.00653309  0.029975657 1    \n",
       "14 007       0.02741312 2    -0.006322454 0507  0.01136292  0.032453596 1    \n",
       "15 008      -0.05501043 1     0.009095622 0008 -0.12180531 -0.167720118 0    \n",
       "16 008      -0.05501043 2    -0.006322454 0508 -0.11562163 -0.176954523 1    \n",
       "17 009      -0.05537574 1     0.009095622 0009 -0.09587087 -0.142150983 0    \n",
       "18 009      -0.05537574 2    -0.006322454 0509 -0.03173252 -0.093430711 0    \n",
       "19 010      -0.06241484 1     0.009095622 0010  0.08503517  0.031715952 1    \n",
       "20 010      -0.06241484 2    -0.006322454 0510  0.06461464 -0.004122654 1    \n",
       "   Y_Z_1\n",
       "1  0    \n",
       "2  1    \n",
       "3  1    \n",
       "4  0    \n",
       "5  1    \n",
       "6  0    \n",
       "7  1    \n",
       "8  1    \n",
       "9  0    \n",
       "10 1    \n",
       "11 0    \n",
       "12 1    \n",
       "13 0    \n",
       "14 0    \n",
       "15 0    \n",
       "16 1    \n",
       "17 0    \n",
       "18 0    \n",
       "19 0    \n",
       "20 0    "
      ]
     },
     "metadata": {},
     "output_type": "display_data"
    }
   ],
   "source": [
    "design0<-declare_model(panels,\n",
    "                       potential_outcomes(Y ~ rbinom(n = N, size = 1, prob = 0.6-0.05* Z+epsilon)))+ NULL\n",
    "\n",
    "head(draw_data(design0) %>% arrange(listings),20)"
   ]
  },
  {
   "cell_type": "code",
   "execution_count": 34,
   "id": "3302dbd5",
   "metadata": {},
   "outputs": [
    {
     "data": {
      "text/plain": [
       "\n",
       "Research design diagnosis based on 30 simulations. Diagnosis completed in 9 secs. Diagnosand estimates with bootstrapped standard errors in parentheses (100 replicates).\n",
       "\n",
       "  Design Inquiry Estimator Term N Sims Mean Estimand Mean Estimate   Bias\n",
       " design0     ATE        FE    Z     30         -0.05         -0.05  -0.00\n",
       "                                              (0.00)        (0.01) (0.00)\n",
       " design0     ATE     Logit    Z     30         -0.05         -0.21  -0.16\n",
       "                                              (0.00)        (0.02) (0.02)\n",
       " design0     ATE       OLS    Z     30         -0.05         -0.05  -0.00\n",
       "                                              (0.00)        (0.01) (0.00)\n",
       " SD Estimate   RMSE  Power Coverage\n",
       "        0.03   0.02   0.33     1.00\n",
       "      (0.00) (0.00) (0.09)   (0.00)\n",
       "        0.13   0.20   0.37     0.80\n",
       "      (0.02) (0.02) (0.09)   (0.07)\n",
       "        0.03   0.02   0.37     1.00\n",
       "      (0.00) (0.00) (0.09)   (0.00)"
      ]
     },
     "metadata": {},
     "output_type": "display_data"
    }
   ],
   "source": [
    "design0<-declare_model(panels,\n",
    "                       potential_outcomes(Y ~ rbinom(n = N, size = 1, prob = 0.6-0.05* Z+epsilon)))+\n",
    "                      declare_inquiry(ATE=mean(Y_Z_1-Y_Z_0))  + declare_assignment(Z=block_ra(blocks=listings)) + \n",
    "                      declare_measurement(Y=reveal_outcomes(Y~Z))+\n",
    "                      declare_estimator(Y~Z,term=\"Z\", .method=lm, label=\"OLS\") +\n",
    "                        declare_estimator(Y~Z+factor(listings)+factor(days),term=\"Z\", .method=lm, label=\"FE\") +\n",
    "                        declare_estimator(Y~Z,term=\"Z\", .method=glm, family=\"binomial\", label=\"Logit\")\n",
    "diagnose_design(design0,sims=30)\n",
    "#head(draw_data(design0) %>% arrange(listings),20)"
   ]
  },
  {
   "cell_type": "code",
   "execution_count": 35,
   "id": "6b185739",
   "metadata": {},
   "outputs": [
    {
     "name": "stderr",
     "output_type": "stream",
     "text": [
      "Loading required package: margins\n",
      "\n",
      "Loading required package: broom\n",
      "\n"
     ]
    }
   ],
   "source": [
    "require(\"margins\") # for margins\n",
    "require(broom) # for tidy\n",
    "\n",
    "tidy_margins <- function(x) {\n",
    "  tidy(margins(x, data = x$data), conf.int = TRUE)\n",
    "}"
   ]
  },
  {
   "cell_type": "code",
   "execution_count": 36,
   "id": "fc11977d",
   "metadata": {},
   "outputs": [
    {
     "data": {
      "text/plain": [
       "\n",
       "Research design diagnosis based on 30 simulations. Diagnosis completed in 9 secs. Diagnosand estimates with bootstrapped standard errors in parentheses (100 replicates).\n",
       "\n",
       "  Design Inquiry Estimator Term N Sims Mean Estimand Mean Estimate   Bias\n",
       " design1     ATE        FE    Z     30         -0.05         -0.05  -0.00\n",
       "                                              (0.00)        (0.01) (0.00)\n",
       " design1     ATE     Logit    Z     30         -0.05         -0.05  -0.00\n",
       "                                              (0.00)        (0.01) (0.00)\n",
       " design1     ATE       OLS    Z     30         -0.05         -0.05  -0.00\n",
       "                                              (0.00)        (0.01) (0.00)\n",
       " SD Estimate   RMSE  Power Coverage\n",
       "        0.03   0.03   0.47     1.00\n",
       "      (0.00) (0.00) (0.11)   (0.00)\n",
       "        0.03   0.03   0.43     1.00\n",
       "      (0.00) (0.00) (0.10)   (0.00)\n",
       "        0.03   0.03   0.43     1.00\n",
       "      (0.00) (0.00) (0.10)   (0.00)"
      ]
     },
     "metadata": {},
     "output_type": "display_data"
    }
   ],
   "source": [
    "design1<-declare_model(panels,\n",
    "                       potential_outcomes(Y ~ rbinom(n = N, size = 1, prob = 0.6-0.05* Z+epsilon)))+\n",
    "  declare_inquiry(ATE=mean(Y_Z_1-Y_Z_0)) +\n",
    "  declare_assignment(Z=block_ra(blocks=listings)) + \n",
    "  declare_measurement(Y=reveal_outcomes(Y~Z))+\n",
    "  declare_estimator(Y~Z+factor(listings)+factor(days),term=\"Z\", .method=lm, label=\"FE\") +\n",
    "  declare_estimator(Y~Z,term=\"Z\", .method=lm, label=\"OLS\") +\n",
    "  declare_estimator(Y~Z,term=\"Z\", .method=glm, family=\"binomial\", label=\"Logit\", .summary = tidy_margins)\n",
    "\n",
    "\n",
    "\n",
    "diagnose_design(design1,sims=30)"
   ]
  },
  {
   "cell_type": "markdown",
   "id": "410b2cc8",
   "metadata": {},
   "source": [
    "## Simple design consistent with [Christensen et al. (2022)](https://direct.mit.edu/rest/article-abstract/104/4/807/97712/Housing-Discrimination-and-the-Toxics-Exposure-Gap?redirectedFrom=fulltext)"
   ]
  },
  {
   "cell_type": "markdown",
   "id": "e07fb6e7",
   "metadata": {},
   "source": [
    "<div >\n",
    "    <img src = \"figures/fig4_ba.png\" style=\"height:500px;\"/>\n",
    "</div>"
   ]
  },
  {
   "cell_type": "code",
   "execution_count": 39,
   "id": "c82b4ce2",
   "metadata": {},
   "outputs": [],
   "source": [
    "panels <- fabricate(\n",
    "  listings = add_level(N = 500, listing_fe = runif(N, -.1, .1), more_than_mile = rbinom(N,size=1,prob=0.3)),\n",
    "  days = add_level(N = 2, day_shock = runif(N, -.05, .05), nest = FALSE),\n",
    "  obs = cross_levels(\n",
    "    by = join_using(listings, days),\n",
    "    U =rnorm(N, 0, .01),\n",
    "    epsilon = listing_fe + day_shock + U\n",
    "  )\n",
    ")\n"
   ]
  },
  {
   "cell_type": "code",
   "execution_count": 41,
   "id": "d28451ee",
   "metadata": {},
   "outputs": [
    {
     "data": {
      "text/plain": [
       "\n",
       "Research design diagnosis based on 30 simulations. Diagnosis completed in 1 secs. Diagnosand estimates with bootstrapped standard errors in parentheses (100 replicates).\n",
       "\n",
       "  Design       Inquiry   Estimator             Term N Sims Mean Estimand\n",
       " design0       CATE_X0 within_mile                Z     30         -0.09\n",
       "                                                                  (0.00)\n",
       " design0       CATE_X1        <NA>             <NA>     30         -0.17\n",
       "                                                                  (0.01)\n",
       " design0 diff_in_CATEs   estimator Z:more_than_mile     30         -0.08\n",
       "                                                                  (0.01)\n",
       " Mean Estimate   Bias SD Estimate   RMSE  Power Coverage\n",
       "         -0.09   0.00        0.04   0.03   0.73     1.00\n",
       "        (0.01) (0.00)      (0.00) (0.00) (0.09)   (0.00)\n",
       "            NA     NA          NA     NA     NA       NA\n",
       "            NA     NA          NA     NA     NA       NA\n",
       "         -0.09  -0.01        0.06   0.04   0.23     1.00\n",
       "        (0.01) (0.01)      (0.01) (0.01) (0.07)   (0.00)"
      ]
     },
     "metadata": {},
     "output_type": "display_data"
    }
   ],
   "source": [
    "design0<-declare_model(panels,\n",
    "                       potential_outcomes(Y ~ rbinom(n = N, size = 1, prob = 0.4-0.1* Z -0.08*Z*more_than_mile+epsilon)))+\n",
    "  declare_inquiry(CATE_X1 =mean(Y_Z_1[more_than_mile == 1] - Y_Z_0[ more_than_mile== 1])  ,\n",
    "                  CATE_X0 = mean(Y_Z_1[more_than_mile == 0] - Y_Z_0[more_than_mile == 0]),\n",
    "                  diff_in_CATEs = CATE_X1- CATE_X0) +\n",
    "  declare_assignment(Z=block_ra(blocks=listings)) + \n",
    "  declare_measurement(Y=reveal_outcomes(Y~Z))+\n",
    "  declare_estimator(Y~Z + more_than_mile + Z * more_than_mile,term=\"Z\", .method=lm, label=\"within_mile\", inquiry=\"CATE_X0\") +\n",
    "  declare_estimator(Y ~ Z + more_than_mile + Z * more_than_mile, \n",
    "                    .method=lm,\n",
    "                    term = \"Z:more_than_mile\", \n",
    "                    inquiry = \"diff_in_CATEs\")\n",
    "\n",
    "\n",
    "diagnose_design(design0,sims=30)"
   ]
  }
 ],
 "metadata": {
  "jupytext": {
   "formats": "ipynb,Rmd"
  },
  "kernelspec": {
   "display_name": "R",
   "language": "R",
   "name": "ir"
  },
  "language_info": {
   "codemirror_mode": "r",
   "file_extension": ".r",
   "mimetype": "text/x-r-source",
   "name": "R",
   "pygments_lexer": "r",
   "version": "4.3.0"
  },
  "toc": {
   "base_numbering": 1,
   "nav_menu": {},
   "number_sections": true,
   "sideBar": true,
   "skip_h1_title": false,
   "title_cell": "Table of Contents",
   "title_sidebar": "Contents",
   "toc_cell": false,
   "toc_position": {},
   "toc_section_display": true,
   "toc_window_display": false
  }
 },
 "nbformat": 4,
 "nbformat_minor": 5
}
